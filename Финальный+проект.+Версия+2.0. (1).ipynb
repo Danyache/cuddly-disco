{
 "cells": [
  {
   "cell_type": "markdown",
   "metadata": {},
   "source": [
    "# Финальный проект по по курсу «Открытые данные» («Статистика»)\n",
    "*Д. Г. Чесаков, BAE'18*\n",
    "## Описание сути проекта\n",
    "Случилось так, что я являюсь игроком в довольно популярную в нашей (и не только) стране игру под названием Dota 2. Это многопользовательская стратегия от третьего лица. Недолго думая, я решил, что будет довольно интересно посчитать что-нибудь связанное с этой игрой. Кратко опишу суть игры -- за каждую команду играет ровно по 5 игроков на 5 разных героях. Все герои в 1 партии различны (то есть в каждой игре участвует ровно 10 разных героев). Так как игра стратегическая -- довольно важны не только сами герои, которые есть у каждой команды (и исполнение на них), но и комбинации героев. Тогда я решил, что будет довольно интересно посмотреть, какие же именно комбинации героев самые победные у каждой отдельной команды (комбинации разные, поскольку каждая команда играет в своем стиле). По итогу я в своем проекте написал функции, которые по названию конкретной команды используют данные ресурса [dotabuff.com](https://www.dotabuff.com), который является крупнейшим сайтом со статистикой по Dota 2, чтобы выгрузить все матчи конкретной команды, героев, которыми они тами играли и вывести лучшие комбинации для каждой из команд, а так же их состав на данный момент."
   ]
  },
  {
   "cell_type": "markdown",
   "metadata": {},
   "source": [
    "#### Функция, которая на вход получает название команды, а выдает ее состав."
   ]
  },
  {
   "cell_type": "code",
   "execution_count": 4,
   "metadata": {
    "collapsed": false
   },
   "outputs": [
    {
     "name": "stdout",
     "output_type": "stream",
     "text": [
      "n0tail\n",
      "s4\n",
      "Fly\n",
      "JerAx\n",
      "ana\n"
     ]
    }
   ],
   "source": [
    "from bs4 import BeautifulSoup\n",
    "import requests\n",
    "from user_agent import generate_user_agent\n",
    "def team_players(name):\n",
    "    url = 'https://www.dotabuff.com/esports/teams'\n",
    "    r = requests.get(url, headers={'User-agent':generate_user_agent()})\n",
    "    soup = BeautifulSoup(r.text, \"html.parser\")\n",
    "    a = soup.findAll('a', class_=\"esports-link\")\n",
    "    t = ''\n",
    "    for i in a:\n",
    "        if name == i.text:\n",
    "            t = i['href']\n",
    "            break\n",
    "    url1 = 'https://www.dotabuff.com/' + t\n",
    "    r1 = requests.get(url1, headers={'User-agent':generate_user_agent()})\n",
    "    soup1 = BeautifulSoup(r1.text, \"html.parser\")\n",
    "    b = soup1.findAll('a', attrs={\"rel\":\"tooltip-remote\"})\n",
    "    for i in range(5):\n",
    "        print(b[i].text)\n",
    "team_players('OG Dota2')  "
   ]
  },
  {
   "cell_type": "markdown",
   "metadata": {},
   "source": [
    "#### Промежуточная функция, которая на вход получает айди матча и команду, а на выход выдает список героев, которыми эта команда играла."
   ]
  },
  {
   "cell_type": "code",
   "execution_count": 31,
   "metadata": {
    "collapsed": false
   },
   "outputs": [
    {
     "data": {
      "text/plain": [
       "['Ogre Magi', 'Centaur Warrunner', 'Slark', 'Rubick', 'Phantom Assassin']"
      ]
     },
     "execution_count": 31,
     "metadata": {},
     "output_type": "execute_result"
    }
   ],
   "source": [
    "# Эта функция нам нужна, чтобы пройдя по всем матчам команды мы получили их героев из этого матча\n",
    "def heroes(id_, name):\n",
    "    url = 'https://www.dotabuff.com' + id_\n",
    "    r = requests.get(url, headers={'User-agent':generate_user_agent()})\n",
    "    soup = BeautifulSoup(r.text, \"html.parser\")\n",
    "    a = soup.findAll('img', class_=\"image-hero image-icon image-overlay\")\n",
    "    b = soup.find('header').find('img')\n",
    "    if b == None:\n",
    "        b = ''\n",
    "    else:\n",
    "        b = b['title']\n",
    "    # здесь мы смотрим брать нам первых 5 героев или последние 5 в матче (в зависимости от того, перед какими стоит название команды)\n",
    "    if b == name:\n",
    "        x = 0\n",
    "        y = 5\n",
    "    else:\n",
    "        x = 5\n",
    "        y = 10\n",
    "    z =[]\n",
    "    if len(a) == 10:\n",
    "        for i in range(x, y):\n",
    "            z.append(a[i]['title'])\n",
    "    return z\n",
    "heroes('/matches/3084574881', 'Team Empire')"
   ]
  },
  {
   "cell_type": "markdown",
   "metadata": {},
   "source": [
    "#### Функция, которая на вход получает адрес страницы и выдает словарь, где каждому айди матча соответствует 0 или 1 (проигрыш или победа нашей команды соответственно)."
   ]
  },
  {
   "cell_type": "code",
   "execution_count": 32,
   "metadata": {
    "collapsed": false
   },
   "outputs": [
    {
     "name": "stdout",
     "output_type": "stream",
     "text": [
      "{'/matches/2547286015': 1, '/matches/2551023876': 1, '/matches/2551170074': 0, '/matches/2526429133': 1, '/matches/2551241703': 0, '/matches/2548903189': 0, '/matches/2548968400': 0, '/matches/2547115445': 0, '/matches/2526571661': 0, '/matches/2549211234': 1, '/matches/2546943823': 0, '/matches/2547331853': 0, '/matches/2549124641': 1, '/matches/2547165450': 0, '/matches/2547018705': 1, '/matches/2550962469': 1, '/matches/2558534849': 0, '/matches/2526630868': 1, '/matches/2526692434': 1, '/matches/2526759078': 1}\n"
     ]
    }
   ],
   "source": [
    "# Эта функция нам нужна, чтобы вытащить все матчи с 1 страницы\n",
    "def page_matches(url):\n",
    "    r = requests.get(url, headers={'User-agent':generate_user_agent()})\n",
    "    soup = BeautifulSoup(r.text, \"html.parser\")\n",
    "    s = {}\n",
    "    a = soup.findAll('a', class_=\"won\")\n",
    "    for i in a:\n",
    "        s[i['href']] = 1\n",
    "    b = soup.findAll('a', class_=\"lost\")\n",
    "    for i in b:\n",
    "        s[i['href']] = 0\n",
    "    print(s)\n",
    "page_matches('https://www.dotabuff.com/esports/teams/36/matches?page=4')"
   ]
  },
  {
   "cell_type": "markdown",
   "metadata": {},
   "source": [
    "#### Получает на вход название команды, выдает словарь всех матчей этой команды, где выигранному матчу ставится 1, а проигранному 0."
   ]
  },
  {
   "cell_type": "code",
   "execution_count": 36,
   "metadata": {
    "collapsed": false
   },
   "outputs": [
    {
     "data": {
      "text/plain": [
       "{'/matches/2667057578': 1,\n",
       " '/matches/2667103957': 0,\n",
       " '/matches/2667169504': 1,\n",
       " '/matches/2677586110': 0,\n",
       " '/matches/2677624868': 1,\n",
       " '/matches/2677667739': 1,\n",
       " '/matches/2679837580': 1,\n",
       " '/matches/2679884943': 0,\n",
       " '/matches/2679987112': 1,\n",
       " '/matches/2680032981': 0,\n",
       " '/matches/2680122681': 0,\n",
       " '/matches/2707751660': 1,\n",
       " '/matches/2707859015': 0,\n",
       " '/matches/2708158481': 1,\n",
       " '/matches/2708211985': 1,\n",
       " '/matches/2715490848': 0,\n",
       " '/matches/2715554686': 1,\n",
       " '/matches/2715610842': 1,\n",
       " '/matches/2717502894': 0,\n",
       " '/matches/2717560456': 1,\n",
       " '/matches/2717600898': 0,\n",
       " '/matches/2717653391': 1,\n",
       " '/matches/2717713390': 1,\n",
       " '/matches/2719307715': 0,\n",
       " '/matches/2719395739': 0,\n",
       " '/matches/2721020383': 0,\n",
       " '/matches/2721116910': 1,\n",
       " '/matches/2721261967': 0,\n",
       " '/matches/2721319658': 1,\n",
       " '/matches/2738480868': 1,\n",
       " '/matches/2738673858': 1,\n",
       " '/matches/2738812191': 0,\n",
       " '/matches/2740497200': 1,\n",
       " '/matches/2740785367': 1,\n",
       " '/matches/2740960816': 1,\n",
       " '/matches/2741056485': 1,\n",
       " '/matches/2742937255': 0,\n",
       " '/matches/2743037193': 1,\n",
       " '/matches/2743155000': 1,\n",
       " '/matches/2745684725': 1,\n",
       " '/matches/2745753559': 1,\n",
       " '/matches/2750160277': 1,\n",
       " '/matches/2750214616': 1,\n",
       " '/matches/2751902069': 0,\n",
       " '/matches/2751994184': 0,\n",
       " '/matches/2752376334': 1,\n",
       " '/matches/2752417626': 0,\n",
       " '/matches/2752492298': 1,\n",
       " '/matches/2754255029': 0,\n",
       " '/matches/2754297176': 1,\n",
       " '/matches/2754333572': 0,\n",
       " '/matches/2756113153': 1,\n",
       " '/matches/2756258311': 0,\n",
       " '/matches/2756349405': 0,\n",
       " '/matches/2758940801': 1,\n",
       " '/matches/2758951386': 1,\n",
       " '/matches/2759029289': 1,\n",
       " '/matches/2761567444': 1,\n",
       " '/matches/2761646567': 1,\n",
       " '/matches/2763657161': 1,\n",
       " '/matches/2763727812': 0,\n",
       " '/matches/2763784293': 0,\n",
       " '/matches/2763819936': 0,\n",
       " '/matches/2769195226': 1,\n",
       " '/matches/2769349680': 0,\n",
       " '/matches/2769458977': 1,\n",
       " '/matches/2769778152': 0,\n",
       " '/matches/2769830727': 0,\n",
       " '/matches/2774076185': 1,\n",
       " '/matches/2774602176': 1,\n",
       " '/matches/2774696886': 1,\n",
       " '/matches/2774777024': 0,\n",
       " '/matches/2774862241': 1,\n",
       " '/matches/2776990690': 0,\n",
       " '/matches/2777093187': 0,\n",
       " '/matches/2783147708': 0,\n",
       " '/matches/2783229760': 0,\n",
       " '/matches/2787168006': 1,\n",
       " '/matches/2787267836': 1,\n",
       " '/matches/2789737402': 0,\n",
       " '/matches/2789844068': 0,\n",
       " '/matches/2798471869': 0,\n",
       " '/matches/2798545179': 1,\n",
       " '/matches/2798608216': 1,\n",
       " '/matches/2798713380': 0,\n",
       " '/matches/2798779681': 0,\n",
       " '/matches/2820436440': 0,\n",
       " '/matches/2820548438': 0,\n",
       " '/matches/2821010405': 1,\n",
       " '/matches/2821083601': 0,\n",
       " '/matches/2821154248': 1,\n",
       " '/matches/2821280690': 0,\n",
       " '/matches/2821348805': 0,\n",
       " '/matches/2831566413': 0,\n",
       " '/matches/2831657596': 1,\n",
       " '/matches/2831737291': 1,\n",
       " '/matches/2834127377': 0,\n",
       " '/matches/2834188057': 0,\n",
       " '/matches/2897074199': 0,\n",
       " '/matches/2899199807': 1,\n",
       " '/matches/2899277641': 1,\n",
       " '/matches/2899868494': 0,\n",
       " '/matches/2900041187': 0,\n",
       " '/matches/2936745223': 1,\n",
       " '/matches/2936819899': 0,\n",
       " '/matches/2938693243': 1,\n",
       " '/matches/2938712197': 1,\n",
       " '/matches/2938754915': 1,\n",
       " '/matches/2944942953': 1,\n",
       " '/matches/2945172634': 1,\n",
       " '/matches/2957578833': 1,\n",
       " '/matches/2957678674': 1,\n",
       " '/matches/2958055364': 1,\n",
       " '/matches/2958170109': 1,\n",
       " '/matches/2961404307': 1,\n",
       " '/matches/2961475540': 1,\n",
       " '/matches/2968434852': 1,\n",
       " '/matches/2968533243': 0,\n",
       " '/matches/2971840251': 0,\n",
       " '/matches/2975141703': 1,\n",
       " '/matches/2975288006': 1,\n",
       " '/matches/2979022392': 1,\n",
       " '/matches/2979097192': 1,\n",
       " '/matches/2990045419': 0,\n",
       " '/matches/2990098074': 0,\n",
       " '/matches/2992254380': 1,\n",
       " '/matches/2992344935': 1,\n",
       " '/matches/2994582204': 1,\n",
       " '/matches/2994643113': 1,\n",
       " '/matches/2994658278': 1,\n",
       " '/matches/2994731712': 1,\n",
       " '/matches/2994783634': 1,\n",
       " '/matches/3046996586': 1,\n",
       " '/matches/3047222869': 1,\n",
       " '/matches/3047305253': 1,\n",
       " '/matches/3049320069': 1,\n",
       " '/matches/3049607382': 1,\n",
       " '/matches/3049694152': 1,\n",
       " '/matches/3051731591': 0,\n",
       " '/matches/3051823399': 1,\n",
       " '/matches/3051890184': 1,\n",
       " '/matches/3052079302': 1,\n",
       " '/matches/3052125327': 0,\n",
       " '/matches/3052186521': 0,\n",
       " '/matches/3053760825': 0,\n",
       " '/matches/3053809319': 0,\n",
       " '/matches/3080691275': 1,\n",
       " '/matches/3080811564': 0,\n",
       " '/matches/3081501692': 1,\n",
       " '/matches/3081676251': 0,\n",
       " '/matches/3082843379': 1,\n",
       " '/matches/3082930927': 1,\n",
       " '/matches/3083318471': 0,\n",
       " '/matches/3083437700': 1,\n",
       " '/matches/3084475590': 0,\n",
       " '/matches/3084557475': 0,\n",
       " '/matches/3084691162': 0,\n",
       " '/matches/3091016058': 0}"
      ]
     },
     "execution_count": 36,
     "metadata": {},
     "output_type": "execute_result"
    }
   ],
   "source": [
    "# Эта функция нам нужна, чтобы вытащить уже все матчи (а потом законнектить каждый матч с по его айди с героями)\n",
    "import re\n",
    "def all_team_matches(name):\n",
    "    url = 'https://www.dotabuff.com/esports/teams'\n",
    "    r = requests.get(url, headers={'User-agent':generate_user_agent()})\n",
    "    soup = BeautifulSoup(r.text, \"html.parser\")\n",
    "    a = soup.findAll('a', class_=\"esports-link\")\n",
    "    t = ''\n",
    "    for i in a:\n",
    "        if name == i.text:\n",
    "            t = i['href']\n",
    "            break\n",
    "    url1 = 'https://www.dotabuff.com/' + t + '/matches?page='\n",
    "    url_match = 'https://www.dotabuff.com/' + t + '/matches'\n",
    "    r_match = requests.get(url_match, headers={'User-agent':generate_user_agent()})\n",
    "    soup_match = BeautifulSoup(r_match.text, \"html.parser\")\n",
    "    x = ''\n",
    "    for i in soup_match.findAll('a'):\n",
    "        if i.text == 'Last »':\n",
    "            x = i['href'] \n",
    "            break\n",
    "    # тут мы идем на последнюю страницу с матчами конкретной команды и смотрим в ссылке какой у нее номер, чтобы пройтись по всем\n",
    "    p = re.compile('=')\n",
    "    m = p.search(x)\n",
    "    y = (m.start()) + 1 \n",
    "    \n",
    "    x = int(x[y:])\n",
    "    s = {}\n",
    "    # ставим в соответствие каждому матчу победа там или поражение\n",
    "    for i in range(1, x):\n",
    "        urlx = url1+str(i)\n",
    "        r2 = requests.get(urlx, headers={'User-agent':generate_user_agent()})\n",
    "        soup = BeautifulSoup(r2.text, \"html.parser\")\n",
    "        a = soup.findAll('a', class_=\"won\")\n",
    "        for i in a:\n",
    "            s[i['href']] = 1\n",
    "        b = soup.findAll('a', class_=\"lost\")\n",
    "        for i in b:\n",
    "            s[i['href']] = 0\n",
    "    return s\n",
    "all_team_matches('Team NP')"
   ]
  },
  {
   "cell_type": "markdown",
   "metadata": {},
   "source": [
    "#### Программа, которая выдает список списков, где i[5] - победа или поражение команды, а остальные значения - набор героев команды в конкретной игре."
   ]
  },
  {
   "cell_type": "code",
   "execution_count": 35,
   "metadata": {
    "collapsed": false
   },
   "outputs": [
    {
     "name": "stdout",
     "output_type": "stream",
     "text": [
      "Team Liquid\n",
      "[['Vengeful Spirit', 'Axe', 'Anti-Mage', 'Visage', 'Pugna', 0], ['Dazzle', 'Razor', 'Tusk', 'Earthshaker', 'Huskar', 0], ['Tusk', 'Spectre', \"Nature's Prophet\", 'Clockwerk', 'Vengeful Spirit', 0], ['Luna', 'Nyx Assassin', 'Disruptor', 'Storm Spirit', 'Venomancer', 1], ['Visage', 'Puck', 'Luna', 'Nyx Assassin', 'Shadow Demon', 1], ['Nyx Assassin', 'Alchemist', 'Slardar', 'Keeper of the Light', 'Lifestealer', 0], ['Luna', \"Nature's Prophet\", 'Shadow Demon', 'Elder Titan', 'Shadow Shaman', 0], ['Ancient Apparition', 'Dark Seer', 'Doom', 'Templar Assassin', 'Nyx Assassin', 1], ['Gyrocopter', 'Magnus', 'Chen', 'Juggernaut', 'Shadow Demon', 0], ['Treant Protector', 'Tinker', 'Luna', 'Axe', 'Shadow Demon', 0], ['Dark Seer', 'Windranger', 'Dazzle', 'Broodmother', 'Slark', 0], ['Io', 'Razor', 'Witch Doctor', 'Dark Seer', 'Gyrocopter', 1], ['Skywrath Mage', 'Outworld Devourer', 'Tidehunter', 'Razor', 'Shadow Shaman', 0], ['Slardar', 'Morphling', 'Disruptor', 'Dark Seer', 'Dazzle', 0], ['Io', 'Alchemist', 'Earth Spirit', 'Slardar', 'Gyrocopter', 1], ['Sand King', 'Luna', 'Tidehunter', 'Dark Seer', 'Shadow Demon', 0], ['Lone Druid', 'Kunkka', 'Visage', 'Leshrac', 'Nyx Assassin', 0], ['Lone Druid', 'Puck', 'Lion', \"Nature's Prophet\", 'Venomancer', 0], ['Luna', 'Timbersaw', 'Nyx Assassin', 'Dragon Knight', 'Crystal Maiden', 1], ['Lifestealer', 'Storm Spirit', 'Sand King', 'Nyx Assassin', 'Ancient Apparition', 0], ['Io', 'Death Prophet', 'Earth Spirit', 'Dark Seer', 'Gyrocopter', 0], ['Vengeful Spirit', 'Dragon Knight', 'Phoenix', 'Slardar', 'Lone Druid', 1], ['Rubick', 'Batrider', 'Drow Ranger', 'Invoker', 'Vengeful Spirit', 0], ['Razor', \"Nature's Prophet\", 'Venomancer', 'Batrider', 'Vengeful Spirit', 0], ['Bounty Hunter', 'Alchemist', 'Disruptor', 'Tidehunter', 'Slark', 1], ['Lifestealer', 'Storm Spirit', 'Lina', 'Beastmaster', 'Shadow Demon', 1], ['Earth Spirit', 'Batrider', 'Juggernaut', 'Keeper of the Light', 'Morphling', 1], ['Treant Protector', 'Lina', 'Winter Wyvern', 'Legion Commander', 'Anti-Mage', 1], ['Io', 'Death Prophet', 'Earth Spirit', 'Dark Seer', 'Spectre', 1], ['Rubick', 'Weaver', 'Ember Spirit', 'Slardar', 'Timbersaw', 1], ['Mirana', 'Shadow Fiend', 'Keeper of the Light', 'Dark Seer', 'Wraith King', 1], ['Queen of Pain', 'Chaos Knight', 'Chen', 'Beastmaster', 'Io', 0], ['Rubick', 'Dark Seer', 'Legion Commander', 'Earthshaker', 'Morphling', 1], ['Crystal Maiden', 'Viper', 'Earth Spirit', \"Nature's Prophet\", 'Juggernaut', 1], ['Doom', 'Puck', 'Rubick', \"Nature's Prophet\", 'Spectre', 1], ['Queen of Pain', 'Faceless Void', 'Shadow Demon', 'Dark Seer', 'Keeper of the Light', 0], ['Lifestealer', 'Skywrath Mage', 'Leshrac', 'Clockwerk', 'Shadow Demon', 1], ['Ursa', 'Razor', 'Earthshaker', 'Warlock', 'Jakiro', 0], ['Lycan', 'Timbersaw', 'Bane', 'Elder Titan', 'Naga Siren', 0], ['Earth Spirit', 'Slardar', 'Storm Spirit', 'Oracle', 'Ursa', 0], ['Gyrocopter', 'Slark', 'Visage', 'Juggernaut', 'Crystal Maiden', 1], ['Anti-Mage', 'Mirana', 'Naga Siren', 'Nyx Assassin', 'Shadow Demon', 1], ['Sniper', 'Clockwerk', 'Alchemist', 'Keeper of the Light', 'Bane', 1], ['Lich', 'Razor', 'Bane', 'Dark Seer', 'Ember Spirit', 1], ['Luna', 'Batrider', 'Lion', \"Nature's Prophet\", 'Rubick', 1], ['Anti-Mage', 'Gyrocopter', 'Sand King', 'Beastmaster', 'Keeper of the Light', 0], ['Anti-Mage', 'Magnus', 'Leshrac', 'Clockwerk', 'Nyx Assassin', 1], ['Queen of Pain', 'Razor', 'Winter Wyvern', 'Batrider', 'Gyrocopter', 1], ['Io', 'Timbersaw', 'Batrider', 'Dazzle', 'Sven', 0], ['Ursa', \"Nature's Prophet\", 'Lion', 'Elder Titan', 'Visage', 0], ['Magnus', 'Rubick', 'Dark Seer', 'Io', 'Tiny', 1], ['Bounty Hunter', 'Juggernaut', 'Rubick', 'Nyx Assassin', 'Morphling', 1], ['Disruptor', \"Nature's Prophet\", 'Chen', 'Luna', 'Batrider', 1], ['Enchantress', 'Death Prophet', 'Lion', 'Beastmaster', 'Anti-Mage', 1], ['Weaver', 'Shadow Fiend', 'Bane', 'Brewmaster', 'Keeper of the Light', 1], ['Luna', 'Omniknight', 'Rubick', 'Nyx Assassin', 'Shadow Demon', 1], ['Lone Druid', 'Warlock', 'Lion', 'Weaver', 'Keeper of the Light', 1], ['Night Stalker', 'Storm Spirit', 'Crystal Maiden', 'Elder Titan', 'Vengeful Spirit', 1], ['Dragon Knight', 'Weaver', 'Visage', 'Dark Seer', 'Sand King', 0], ['Lifestealer', 'Templar Assassin', 'Lina', 'Clockwerk', 'Bane', 1], ['Lone Druid', 'Lifestealer', 'Nyx Assassin', 'Beastmaster', 'Shadow Demon', 1], ['Vengeful Spirit', 'Brewmaster', 'Earth Spirit', 'Dark Seer', 'Lycan', 1], ['Weaver', 'Clinkz', 'Visage', 'Nyx Assassin', 'Windranger', 0], ['Mirana', 'Shadow Fiend', 'Witch Doctor', 'Dark Seer', 'Treant Protector', 1], ['Ogre Magi', 'Slardar', 'Templar Assassin', 'Disruptor', 'Lifestealer', 0], ['Enigma', 'Centaur Warrunner', 'Timbersaw', 'Rubick', 'Weaver', 1], ['Elder Titan', 'Medusa', 'Lion', 'Faceless Void', 'Timbersaw', 1], ['Disruptor', 'Invoker', 'Lone Druid', 'Batrider', 'Ancient Apparition', 0], ['Weaver', 'Clinkz', 'Naga Siren', 'Elder Titan', 'Crystal Maiden', 1], ['Anti-Mage', 'Clockwerk', 'Visage', 'Dragon Knight', 'Crystal Maiden', 0], ['Lifestealer', 'Batrider', 'Visage', 'Dragon Knight', 'Chen', 1], ['Sand King', 'Gyrocopter', 'Visage', 'Clockwerk', 'Rubick', 0], ['Dragon Knight', 'Chaos Knight', 'Visage', 'Clockwerk', 'Io', 0], ['Lifestealer', 'Skywrath Mage', 'Magnus', 'Juggernaut', 'Shadow Demon', 0], ['Spectre', 'Invoker', 'Shadow Demon', 'Clockwerk', 'Leshrac', 1], ['Spirit Breaker', 'Bristleback', 'Winter Wyvern', 'Tusk', 'Huskar', 1], ['Viper', 'Batrider', 'Visage', 'Alchemist', 'Bane', 0], ['Death Prophet', 'Morphling', 'Tidehunter', 'Batrider', 'Lich', 0], ['Dazzle', 'Queen of Pain', 'Tusk', 'Omniknight', 'Ursa', 1], ['Enchantress', 'Dragon Knight', 'Earth Spirit', 'Doom', 'Juggernaut', 0], ['Gyrocopter', 'Storm Spirit', 'Venomancer', 'Clockwerk', 'Vengeful Spirit', 1], ['Doom', 'Viper', 'Lion', \"Nature's Prophet\", 'Ursa', 1], ['Nyx Assassin', 'Slark', 'Weaver', 'Puck', 'Ancient Apparition', 1], ['Spirit Breaker', 'Shadow Fiend', 'Tusk', 'Dark Seer', 'Necrophos', 1], ['Riki', 'Alchemist', 'Lion', 'Slardar', 'Lifestealer', 1], ['Rubick', 'Nyx Assassin', 'Drow Ranger', 'Keeper of the Light', \"Nature's Prophet\", 0], ['Ancient Apparition', \"Nature's Prophet\", 'Doom', 'Templar Assassin', 'Jakiro', 0], ['Rubick', 'Tinker', 'Lycan', 'Batrider', 'Disruptor', 1], ['Ogre Magi', 'Brewmaster', 'Outworld Devourer', 'Keeper of the Light', 'Timbersaw', 0], ['Mirana', 'Lone Druid', 'Venomancer', 'Beastmaster', 'Visage', 1], ['Luna', 'Slark', 'Lina', 'Clockwerk', 'Shadow Demon', 1], ['Vengeful Spirit', \"Nature's Prophet\", 'Mirana', 'Brewmaster', 'Io', 0], ['Anti-Mage', 'Clockwerk', 'Venomancer', 'Dragon Knight', 'Alchemist', 0], ['Gyrocopter', 'Kunkka', 'Crystal Maiden', 'Windranger', 'Treant Protector', 1], ['Lifestealer', 'Magnus', 'Lion', 'Batrider', 'Jakiro', 1], ['Io', 'Visage', 'Earth Spirit', 'Nyx Assassin', 'Anti-Mage', 1], ['Chaos Knight', 'Outworld Devourer', 'Io', \"Nature's Prophet\", 'Bane', 0], ['Rubick', 'Centaur Warrunner', 'Anti-Mage', 'Io', 'Necrophos', 1], ['Lion', 'Beastmaster', 'Ember Spirit', 'Io', 'Morphling', 1], ['Lich', 'Gyrocopter', 'Visage', 'Juggernaut', 'Crystal Maiden', 0], ['Io', 'Viper', 'Witch Doctor', 'Spirit Breaker', 'Ember Spirit', 0], ['Doom', 'Lone Druid', 'Witch Doctor', 'Beastmaster', 'Spectre', 0], ['Omniknight', 'Queen of Pain', 'Tusk', 'Dark Seer', 'Phantom Lancer', 0], ['Io', 'Outworld Devourer', 'Tusk', 'Night Stalker', 'Tinker', 1], ['Silencer', 'Bristleback', 'Earthshaker', 'Abaddon', 'Leshrac', 0], ['Tusk', 'Invoker', 'Phoenix', 'Faceless Void', 'Gyrocopter', 1], ['Dragon Knight', 'Mirana', 'Shadow Demon', 'Puck', 'Wraith King', 1], ['Enigma', 'Windranger', 'Tusk', 'Slardar', 'Troll Warlord', 0], ['Spirit Breaker', 'Razor', 'Tusk', 'Dark Seer', 'Gyrocopter', 1], ['Queen of Pain', 'Anti-Mage', 'Chen', 'Dark Seer', 'Jakiro', 0], ['Rubick', 'Underlord', 'Shadow Fiend', 'Pudge', 'Naga Siren', 1], ['Bane', 'Razor', 'Earthshaker', 'Queen of Pain', 'Night Stalker', 0], ['Oracle', 'Dark Seer', 'Alchemist', 'Mirana', 'Faceless Void', 1], ['Wraith King', 'Nyx Assassin', 'Chen', 'Elder Titan', 'Venomancer', 0], ['Gyrocopter', 'Queen of Pain', 'Chen', 'Batrider', 'Rubick', 0], ['Night Stalker', \"Nature's Prophet\", 'Mirana', 'Batrider', 'Venomancer', 1], ['Ursa', 'Luna', 'Naga Siren', 'Disruptor', 'Shadow Demon', 0], ['Dragon Knight', \"Nature's Prophet\", 'Venomancer', 'Clockwerk', 'Rubick', 1], ['Dazzle', 'Razor', 'Bane', 'Necrophos', 'Tusk', 1], ['Tidehunter', 'Gyrocopter', 'Chen', 'Magnus', 'Shadow Demon', 1], ['Pudge', 'Tidehunter', 'Faceless Void', 'Shadow Demon', 'Slark', 0], ['Rubick', 'Beastmaster', 'Ember Spirit', 'Io', 'Terrorblade', 1], ['Lifestealer', 'Gyrocopter', 'Clockwerk', 'Dark Seer', 'Rubick', 1], ['Undying', 'Mirana', 'Shadow Demon', 'Sand King', 'Morphling', 1], ['Witch Doctor', 'Puck', 'Phoenix', 'Gyrocopter', 'Ursa', 1], ['Rubick', 'Lone Druid', 'Winter Wyvern', 'Beastmaster', 'Lycan', 1], ['Monkey King', 'Sand King', 'Invoker', 'Crystal Maiden', \"Nature's Prophet\", 1], ['Witch Doctor', 'Queen of Pain', 'Faceless Void', 'Razor', 'Jakiro', 0], ['Sand King', 'Mirana', 'Lycan', 'Invoker', 'Shadow Demon', 0], ['Ogre Magi', 'Batrider', 'Razor', 'Disruptor', 'Lifestealer', 1], ['Windranger', 'Magnus', 'Gyrocopter', 'Batrider', 'Shadow Demon', 1], ['Mirana', 'Lycan', 'Batrider', 'Death Prophet', 'Shadow Shaman', 1], ['Chen', 'Shadow Fiend', 'Ember Spirit', 'Batrider', 'Crystal Maiden', 0], ['Shadow Fiend', 'Queen of Pain', 'Chen', 'Clockwerk', 'Nyx Assassin', 1], ['Gyrocopter', 'Magnus', 'Shadow Demon', 'Juggernaut', 'Chen', 1], ['Dragon Knight', 'Nyx Assassin', 'Chen', 'Pugna', 'Crystal Maiden', 1], ['Disruptor', \"Nature's Prophet\", 'Rubick', 'Invoker', 'Lifestealer', 0], ['Enchantress', 'Timbersaw', 'Phoenix', 'Faceless Void', 'Ursa', 1], ['Gyrocopter', 'Puck', 'Chen', \"Nature's Prophet\", 'Vengeful Spirit', 1], ['Naga Siren', 'Gyrocopter', 'Crystal Maiden', 'Enigma', 'Treant Protector', 0], ['Brewmaster', 'Storm Spirit', 'Lone Druid', 'Undying', 'Disruptor', 1], ['Luna', 'Tusk', 'Enchantress', 'Alchemist', 'Shadow Shaman', 0], ['Pudge', 'Legion Commander', 'Weaver', 'Zeus', 'Dazzle', 0], ['Earthshaker', 'Razor', 'Bane', 'Clockwerk', 'Windranger', 0], ['Gyrocopter', 'Kunkka', 'Enchantress', \"Nature's Prophet\", 'Shadow Demon', 0], ['Dark Seer', 'Storm Spirit', 'Chen', 'Windranger', 'Shadow Demon', 1], ['Juggernaut', 'Lone Druid', 'Crystal Maiden', 'Elder Titan', 'Visage', 1], ['Lina', 'Alchemist', 'Tusk', 'Dark Seer', 'Slardar', 0], ['Treant Protector', 'Invoker', 'Luna', 'Clockwerk', 'Shadow Shaman', 0], ['Dragon Knight', 'Elder Titan', 'Enchantress', 'Death Prophet', 'Venomancer', 0], ['Lina', 'Nyx Assassin', 'Weaver', \"Nature's Prophet\", 'Rubick', 1], ['Outworld Devourer', 'Queen of Pain', 'Visage', 'Lifestealer', 'Crystal Maiden', 0], ['Sand King', 'Mirana', 'Invoker', 'Omniknight', 'Drow Ranger', 0], ['Luna', 'Queen of Pain', 'Venomancer', 'Batrider', 'Visage', 0], ['Rubick', 'Riki', 'Leshrac', 'Dark Seer', 'Shadow Demon', 0], ['Dazzle', 'Invoker', 'Tusk', 'Faceless Void', 'Drow Ranger', 0], ['Lifestealer', 'Tinker', 'Chen', 'Beastmaster', 'Shadow Shaman', 1], ['Ogre Magi', 'Brewmaster', 'Alchemist', 'Keeper of the Light', 'Vengeful Spirit', 1], ['Riki', 'Death Prophet', 'Disruptor', 'Faceless Void', 'Lifestealer', 1], ['Io', 'Outworld Devourer', 'Lion', 'Tidehunter', 'Tiny', 0], ['Phantom Assassin', 'Lion', 'Kunkka', \"Nature's Prophet\", 'Slardar', 0], ['Skywrath Mage', 'Tinker', 'Brewmaster', 'Ursa', 'Wraith King', 1], ['Lion', 'Magnus', 'Luna', \"Nature's Prophet\", 'Venomancer', 1], ['Luna', 'Storm Spirit', 'Abaddon', 'Batrider', 'Visage', 0], ['Faceless Void', 'Magnus', 'Shadow Shaman', 'Batrider', 'Shadow Demon', 0], ['Dragon Knight', 'Lifestealer', 'Sand King', 'Clockwerk', 'Disruptor', 0], ['Weaver', 'Mirana', 'Visage', 'Beastmaster', 'Shadow Demon', 1], ['Dragon Knight', 'Gyrocopter', 'Disruptor', 'Clockwerk', 'Rubick', 1], ['Outworld Devourer', 'Ursa', 'Io', 'Beastmaster', 'Crystal Maiden', 1], ['Lion', 'Tinker', 'Lifestealer', 'Batrider', 'Visage', 0], ['Rubick', 'Batrider', 'Tiny', 'Io', 'Timbersaw', 1], ['Lifestealer', 'Slark', 'Leshrac', 'Clockwerk', 'Rubick', 1], ['Ancient Apparition', 'Shadow Fiend', 'Winter Wyvern', 'Clockwerk', 'Gyrocopter', 1], ['Enigma', 'Invoker', 'Witch Doctor', 'Phantom Lancer', \"Nature's Prophet\", 1], ['Tiny', 'Nyx Assassin', 'Chen', 'Elder Titan', 'Io', 1], ['Sven', 'Queen of Pain', 'Dazzle', 'Magnus', 'Juggernaut', 0], ['Chen', 'Anti-Mage', 'Windranger', 'Clockwerk', 'Treant Protector', 1], ['Disruptor', 'Batrider', 'Anti-Mage', 'Slardar', 'Omniknight', 0], ['Lifestealer', 'Tinker', 'Chen', 'Beastmaster', 'Visage', 0], ['Sven', 'Shadow Fiend', 'Mirana', 'Batrider', 'Vengeful Spirit', 1], ['Sand King', 'Beastmaster', 'Invoker', 'Warlock', 'Timbersaw', 1], ['Shadow Shaman', 'Batrider', 'Enchantress', 'Storm Spirit', 'Lycan', 0], ['Enchantress', 'Phantom Lancer', 'Tusk', 'Beastmaster', 'Ursa', 0], ['Ember Spirit', 'Naga Siren', 'Dazzle', 'Nyx Assassin', 'Visage', 1], ['Visage', 'Nyx Assassin', 'Gyrocopter', 'Clockwerk', 'Bane', 0], ['Elder Titan', 'Mirana', 'Oracle', 'Beastmaster', 'Huskar', 1], ['Shadow Shaman', 'Invoker', 'Tusk', 'Weaver', 'Luna', 1], ['Magnus', 'Kunkka', 'Keeper of the Light', 'Batrider', 'Shadow Demon', 0], ['Dazzle', 'Razor', 'Earth Spirit', 'Nyx Assassin', 'Anti-Mage', 1], ['Dazzle', 'Legion Commander', 'Troll Warlord', 'Rubick', 'Lone Druid', 1], ['Night Stalker', 'Dragon Knight', 'Oracle', 'Slardar', 'Lifestealer', 1], ['Lycan', 'Storm Spirit', 'Shadow Shaman', 'Dark Seer', 'Bane', 1], ['Undying', 'Razor', 'Tusk', 'Dark Seer', 'Ember Spirit', 1], ['Lone Druid', 'Magnus', 'Lion', 'Windranger', 'Shadow Demon', 1], [\"Nature's Prophet\", 'Magnus', 'Tiny', 'Dark Seer', 'Rubick', 0], ['Weaver', 'Puck', 'Lion', \"Nature's Prophet\", 'Keeper of the Light', 1], ['Undying', 'Slardar', 'Batrider', 'Skywrath Mage', 'Naga Siren', 0], ['Weaver', 'Invoker', 'Ancient Apparition', 'Nyx Assassin', 'Vengeful Spirit', 0], ['Lifestealer', 'Storm Spirit', 'Chen', 'Clockwerk', 'Nyx Assassin', 1], ['Lifestealer', 'Batrider', 'Abaddon', 'Timbersaw', 'Rubick', 0], ['Silencer', 'Queen of Pain', 'Bane', 'Clockwerk', 'Ember Spirit', 1], ['Lifestealer', 'Storm Spirit', 'Rubick', 'Magnus', 'Leshrac', 0], ['Elder Titan', 'Razor', 'Tusk', 'Doom', 'Gyrocopter', 1], ['Rubick', 'Tinker', 'Shadow Shaman', 'Batrider', 'Lifestealer', 1], ['Visage', 'Warlock', 'Night Stalker', 'Gyrocopter', 'Lone Druid', 0], ['Beastmaster', 'Dragon Knight', 'Disruptor', 'Slardar', 'Lycan', 0], ['Silencer', 'Invoker', 'Tusk', 'Batrider', 'Ursa', 1], ['Rubick', 'Queen of Pain', 'Luna', 'Lifestealer', 'Treant Protector', 1], ['Dragon Knight', 'Luna', 'Nyx Assassin', 'Dark Seer', 'Keeper of the Light', 1], ['Rubick', 'Nyx Assassin', 'Tiny', \"Nature's Prophet\", 'Bane', 0], ['Shadow Shaman', 'Beastmaster', 'Dragon Knight', 'Oracle', 'Juggernaut', 0], ['Luna', 'Batrider', 'Venomancer', 'Viper', 'Windranger', 1], ['Slark', 'Undying', 'Windranger', 'Weaver', 'Outworld Devourer', 0], ['Io', 'Invoker', 'Earth Spirit', 'Bounty Hunter', 'Tiny', 1], ['Tiny', \"Nature's Prophet\", 'Rubick', 'Elder Titan', 'Visage', 1], ['Dazzle', 'Beastmaster', 'Invoker', 'Slardar', 'Necrophos', 1], ['Shadow Demon', 'Invoker', 'Slark', 'Centaur Warrunner', 'Enigma', 0], ['Enchantress', 'Dragon Knight', 'Luna', 'Centaur Warrunner', 'Shadow Demon', 0], ['Vengeful Spirit', 'Death Prophet', 'Earth Spirit', 'Nyx Assassin', 'Medusa', 1], ['Enchantress', 'Gyrocopter', 'Clockwerk', 'Tinker', 'Undying', 1], ['Disruptor', 'Invoker', 'Vengeful Spirit', 'Tusk', 'Juggernaut', 1], ['Rubick', 'Death Prophet', 'Winter Wyvern', 'Centaur Warrunner', 'Drow Ranger', 1], ['Rubick', 'Brewmaster', 'Templar Assassin', 'Keeper of the Light', 'Juggernaut', 1], ['Undying', 'Razor', 'Winter Wyvern', 'Necrophos', 'Earthshaker', 1], ['Lifestealer', 'Invoker', 'Vengeful Spirit', \"Nature's Prophet\", 'Gyrocopter', 0], ['Doom', 'Razor', 'Winter Wyvern', 'Clockwerk', 'Gyrocopter', 1], ['Chen', 'Luna', 'Dark Seer', \"Nature's Prophet\", 'Rubick', 0], ['Enigma', 'Centaur Warrunner', 'Bane', 'Nyx Assassin', 'Naga Siren', 0], ['Phantom Lancer', 'Beastmaster', 'Tidehunter', 'Batrider', 'Keeper of the Light', 0], ['Rubick', 'Axe', 'Winter Wyvern', 'Riki', 'Clinkz', 0], ['Gyrocopter', 'Storm Spirit', 'Rubick', 'Beastmaster', 'Visage', 0], ['Lifestealer', 'Dark Seer', 'Mirana', 'Dragon Knight', 'Rubick', 0], ['Lifestealer', 'Templar Assassin', 'Lina', 'Juggernaut', 'Rubick', 0], ['Doom', 'Death Prophet', 'Phoenix', 'Dark Seer', 'Lycan', 1], ['Dazzle', 'Nyx Assassin', 'Ancient Apparition', 'Elder Titan', 'Faceless Void', 0], ['Lifestealer', 'Brewmaster', 'Rubick', \"Nature's Prophet\", 'Io', 1], ['Disruptor', 'Lina', 'Tusk', 'Batrider', 'Gyrocopter', 1], ['Bounty Hunter', 'Invoker', 'Lion', 'Tidehunter', 'Spectre', 1], ['Crystal Maiden', 'Queen of Pain', 'Witch Doctor', 'Clockwerk', 'Ember Spirit', 0], ['Venomancer', 'Viper', 'Shadow Shaman', 'Puck', 'Lycan', 1], ['Luna', 'Tusk', 'Chen', 'Elder Titan', 'Shadow Shaman', 1], ['Anti-Mage', 'Puck', 'Tidehunter', 'Batrider', 'Shadow Demon', 1], ['Bounty Hunter', 'Death Prophet', 'Batrider', 'Rubick', 'Naga Siren', 1], ['Naga Siren', 'Gyrocopter', 'Crystal Maiden', 'Windranger', 'Treant Protector', 1], ['Mirana', 'Clinkz', 'Visage', 'Clockwerk', 'Bane', 1], ['Bounty Hunter', 'Dragon Knight', 'Weaver', 'Clockwerk', 'Crystal Maiden', 0], ['Visage', 'Juggernaut', 'Keeper of the Light', 'Nyx Assassin', 'Morphling', 0], ['Bane', 'Batrider', 'Enchantress', 'Axe', 'Luna', 0], ['Ancient Apparition', 'Gyrocopter', 'Brewmaster', 'Clockwerk', 'Rubick', 0], ['Ember Spirit', 'Morphling', 'Disruptor', 'Clockwerk', 'Dazzle', 0], ['Luna', 'Brewmaster', 'Chen', 'Dark Seer', 'Nyx Assassin', 1], ['Juggernaut', \"Nature's Prophet\", 'Rubick', 'Viper', 'Vengeful Spirit', 0], ['Kunkka', 'Morphling', 'Witch Doctor', 'Dark Seer', 'Treant Protector', 1], ['Ancient Apparition', 'Templar Assassin', 'Tusk', 'Dark Seer', 'Wraith King', 0], ['Elder Titan', 'Mirana', 'Oracle', 'Faceless Void', 'Drow Ranger', 1], ['Queen of Pain', 'Viper', 'Rubick', 'Dark Seer', 'Phantom Lancer', 0], ['Lifestealer', \"Nature's Prophet\", 'Shadow Shaman', 'Nyx Assassin', 'Chen', 0], ['Lion', 'Invoker', 'Phoenix', \"Nature's Prophet\", 'Lone Druid', 1], ['Undying', 'Alchemist', 'Winter Wyvern', 'Clockwerk', 'Juggernaut', 0], ['Queen of Pain', 'Shadow Fiend', 'Vengeful Spirit', 'Batrider', 'Gyrocopter', 0], ['Dragon Knight', 'Gyrocopter', 'Shadow Demon', 'Dark Seer', 'Nyx Assassin', 0], ['Vengeful Spirit', 'Dragon Knight', 'Earth Spirit', 'Slardar', 'Lycan', 0], ['Queen of Pain', 'Gyrocopter', 'Vengeful Spirit', 'Dark Seer', 'Treant Protector', 1], ['Legion Commander', 'Invoker', 'Shadow Demon', 'Faceless Void', 'Storm Spirit', 0], ['Bounty Hunter', 'Alchemist', 'Vengeful Spirit', 'Dark Seer', 'Phantom Lancer', 1], ['Riki', 'Magnus', 'Lion', 'Lifestealer', 'Slark', 0], ['Dazzle', 'Mirana', 'Warlock', 'Beastmaster', 'Drow Ranger', 1], ['Dragon Knight', 'Gyrocopter', 'Rubick', 'Clockwerk', 'Keeper of the Light', 1], ['Batrider', 'Enchantress', 'Bounty Hunter', 'Shadow Demon', 'Lifestealer', 1], ['Earthshaker', 'Puck', 'Juggernaut', 'Clockwerk', 'Shadow Demon', 0], ['Bounty Hunter', 'Juggernaut', 'Disruptor', 'Batrider', 'Morphling', 0], ['Shadow Shaman', 'Invoker', 'Oracle', \"Nature's Prophet\", 'Necrophos', 0], ['Chen', 'Faceless Void', 'Mirana', 'Oracle', 'Morphling', 1], ['Visage', 'Storm Spirit', 'Rubick', 'Nyx Assassin', 'Lifestealer', 0], ['Shadow Shaman', \"Nature's Prophet\", 'Rubick', 'Night Stalker', 'Luna', 1], ['Disruptor', 'Enigma', 'Sniper', 'Slardar', 'Lifestealer', 1], ['Elder Titan', 'Morphling', 'Ursa', 'Rubick', 'Io', 0], ['Undying', 'Beastmaster', 'Winter Wyvern', 'Doom', 'Tusk', 1], ['Skywrath Mage', 'Ember Spirit', 'Lycan', 'Razor', 'Sand King', 1], ['Ancient Apparition', 'Batrider', 'Shadow Fiend', 'Io', 'Naga Siren', 1], ['Centaur Warrunner', 'Shadow Fiend', 'Dazzle', 'Batrider', 'Vengeful Spirit', 1], ['Shadow Fiend', 'Nyx Assassin', 'Dazzle', 'Shadow Demon', 'Luna', 1], ['Shadow Shaman', 'Invoker', 'Dazzle', 'Earthshaker', 'Luna', 1], ['Windranger', 'Chaos Knight', 'Lifestealer', 'Magnus', 'Keeper of the Light', 1], ['Anti-Mage', 'Sand King', 'Naga Siren', 'Tinker', 'Crystal Maiden', 1], ['Skywrath Mage', 'Outworld Devourer', 'Tidehunter', 'Razor', 'Wraith King', 1], ['Storm Spirit', 'Lifestealer', 'Lich', \"Nature's Prophet\", 'Treant Protector', 1], ['Vengeful Spirit', 'Storm Spirit', 'Lycan', 'Dark Seer', 'Disruptor', 1], ['Weaver', 'Juggernaut', 'Visage', 'Clockwerk', 'Nyx Assassin', 0], ['Rubick', 'Brewmaster', 'Juggernaut', 'Keeper of the Light', 'Lone Druid', 1], ['Viper', 'Tiny', 'Io', 'Puck', 'Rubick', 0], ['Kunkka', 'Gyrocopter', 'Crystal Maiden', 'Lone Druid', 'Jakiro', 0], ['Elder Titan', 'Medusa', 'Oracle', 'Nyx Assassin', 'Drow Ranger', 1], ['Razor', 'Puck', 'Bane', 'Tinker', 'Treant Protector', 1], ['Lion', 'Faceless Void', 'Invoker', 'Earthshaker', 'Wraith King', 1], ['Tidehunter', \"Nature's Prophet\", 'Naga Siren', 'Batrider', 'Shadow Shaman', 0], ['Luna', 'Templar Assassin', 'Lina', 'Clockwerk', 'Nyx Assassin', 1], ['Visage', 'Chaos Knight', 'Puck', 'Lifestealer', 'Io', 1], ['Phoenix', 'Axe', 'Alchemist', 'Rubick', 'Medusa', 0], ['Spirit Breaker', 'Slardar', 'Invoker', 'Keeper of the Light', 'Weaver', 1], ['Omniknight', 'Legion Commander', 'Magnus', 'Disruptor', 'Lifestealer', 0], ['Gyrocopter', 'Kunkka', 'Chen', 'Windranger', 'Treant Protector', 1], ['Clockwerk', 'Invoker', 'Shadow Demon', 'Axe', 'Morphling', 1], ['Dragon Knight', 'Queen of Pain', 'Enchantress', 'Lifestealer', 'Shadow Demon', 1], ['Centaur Warrunner', 'Weaver', 'Witch Doctor', 'Elder Titan', 'Bane', 0], ['Dragon Knight', 'Weaver', 'Rubick', 'Batrider', 'Bane', 0], ['Slardar', \"Nature's Prophet\", 'Venomancer', 'Batrider', 'Vengeful Spirit', 1], ['Undying', 'Dragon Knight', 'Dazzle', 'Tusk', 'Juggernaut', 1], ['Witch Doctor', 'Invoker', 'Earthshaker', 'Beastmaster', 'Ursa', 1], ['Phantom Lancer', 'Brewmaster', 'Keeper of the Light', 'Batrider', 'Shadow Demon', 1], ['Disruptor', 'Queen of Pain', 'Dragon Knight', 'Centaur Warrunner', 'Doom', 1], ['Luna', 'Nyx Assassin', 'Enchantress', 'Elder Titan', 'Shadow Shaman', 1], ['Enchantress', 'Brewmaster', 'Phantom Lancer', 'Dark Seer', 'Keeper of the Light', 0], ['Crystal Maiden', 'Tinker', 'Lycan', 'Nyx Assassin', 'Visage', 1], ['Rubick', 'Puck', 'Earth Spirit', \"Nature's Prophet\", 'Juggernaut', 1], ['Warlock', 'Sand King', 'Shadow Fiend', 'Rubick', 'Drow Ranger', 0], ['Dazzle', 'Beastmaster', 'Invoker', 'Pudge', 'Ember Spirit', 1], ['Tiny', 'Batrider', 'Io', 'Storm Spirit', 'Visage', 0], ['Rubick', 'Puck', 'Tusk', \"Nature's Prophet\", 'Lycan', 1], ['Phantom Lancer', 'Brewmaster', 'Keeper of the Light', \"Nature's Prophet\", 'Rubick', 1], ['Enchantress', 'Queen of Pain', 'Luna', 'Windranger', 'Nyx Assassin', 1], ['Oracle', 'Death Prophet', 'Tusk', 'Tidehunter', 'Ember Spirit', 1], ['Shadow Fiend', 'Puck', 'Leshrac', \"Nature's Prophet\", 'Shadow Demon', 0], ['Mirana', 'Storm Spirit', 'Faceless Void', 'Ember Spirit', 'Shadow Shaman', 0], ['Bounty Hunter', 'Timbersaw', 'Oracle', 'Batrider', 'Morphling', 1], ['Doom', 'Tinker', 'Sand King', 'Centaur Warrunner', 'Disruptor', 0], ['Doom', \"Nature's Prophet\", 'Ancient Apparition', 'Dark Seer', 'Vengeful Spirit', 0], ['Luna', 'Bounty Hunter', 'Shadow Demon', 'Batrider', 'Tidehunter', 1], ['Enigma', 'Lone Druid', 'Earth Spirit', 'Tidehunter', 'Phantom Lancer', 0], ['Warlock', 'Batrider', 'Drow Ranger', 'Slardar', 'Lone Druid', 1], ['Dazzle', 'Death Prophet', 'Tusk', 'Clockwerk', 'Lycan', 1], ['Lifestealer', 'Shadow Fiend', 'Naga Siren', 'Centaur Warrunner', 'Crystal Maiden', 1], ['Storm Spirit', 'Slark', 'Enchantress', 'Elder Titan', 'Bane', 0], ['Mirana', 'Naga Siren', 'Brewmaster', 'Razor', 'Shadow Shaman', 0], ['Lycan', 'Storm Spirit', 'Rubick', 'Centaur Warrunner', 'Crystal Maiden', 1], ['Lina', 'Shadow Fiend', 'Winter Wyvern', 'Earthshaker', 'Juggernaut', 1], ['Lion', 'Viper', 'Shadow Demon', 'Dark Seer', 'Ember Spirit', 0], ['Dark Seer', 'Wraith King', 'Shadow Fiend', 'Ancient Apparition', 'Vengeful Spirit', 0], ['Leshrac', 'Batrider', 'Gyrocopter', 'Clockwerk', 'Shadow Demon', 1], ['Visage', 'Beastmaster', 'Chaos Knight', 'Clockwerk', 'Io', 0], ['Ancient Apparition', 'Dragon Knight', 'Earth Spirit', 'Beastmaster', 'Slark', 1], ['Lifestealer', 'Storm Spirit', 'Shadow Demon', 'Clockwerk', 'Leshrac', 0], ['Slardar', \"Nature's Prophet\", 'Bane', 'Elder Titan', 'Visage', 0], ['Drow Ranger', 'Windranger', 'Timbersaw', 'Rubick', 'Dazzle', 1], ['Earthshaker', 'Puck', 'Gyrocopter', 'Dark Seer', 'Bane', 1], ['Bounty Hunter', 'Razor', 'Witch Doctor', 'Dark Seer', 'Medusa', 0], ['Bounty Hunter', 'Faceless Void', 'Invoker', 'Rubick', 'Gyrocopter', 1], ['Rubick', 'Windranger', 'Luna', 'Tinker', 'Undying', 1], ['Mirana', 'Doom', 'Visage', 'Beastmaster', 'Sand King', 0], ['Rubick', 'Weaver', 'Templar Assassin', 'Magnus', 'Timbersaw', 0], ['Chen', 'Outworld Devourer', 'Tusk', 'Earthshaker', 'Queen of Pain', 1], ['Venomancer', \"Nature's Prophet\", 'Slardar', 'Death Prophet', 'Visage', 1], ['Tiny', 'Slark', 'Rubick', 'Elder Titan', 'Io', 1], ['Rubick', 'Death Prophet', 'Earth Spirit', 'Faceless Void', 'Gyrocopter', 1], ['Dazzle', 'Morphling', 'Batrider', 'Storm Spirit', 'Shadow Shaman', 0], ['Shadow Shaman', 'Doom', 'Lycan', 'Batrider', 'Ancient Apparition', 0], ['Keeper of the Light', 'Legion Commander', 'Monkey King', 'Naga Siren', 'Lifestealer', 1], ['Lifestealer', 'Windranger', 'Visage', 'Clockwerk', 'Doom', 1], ['Dragon Knight', 'Alchemist', 'Visage', 'Batrider', 'Shadow Demon', 1], ['Juggernaut', 'Lone Druid', 'Venomancer', 'Dragon Knight', 'Visage', 1], ['Nyx Assassin', 'Invoker', 'Shadow Demon', 'Slardar', 'Gyrocopter', 0], ['Omniknight', 'Windranger', 'Tusk', 'Clockwerk', 'Huskar', 1], ['Elder Titan', 'Tusk', 'Phoenix', 'Razor', 'Gyrocopter', 0], ['Bounty Hunter', 'Invoker', 'Dazzle', 'Nyx Assassin', 'Terrorblade', 1], ['Warlock', 'Morphling', 'Nyx Assassin', 'Clockwerk', 'Shadow Demon', 0], ['Ember Spirit', 'Doom', 'Sand King', 'Centaur Warrunner', 'Disruptor', 0], ['Disruptor', 'Viper', 'Tusk', 'Clockwerk', 'Gyrocopter', 1], ['Rubick', 'Beastmaster', 'Morphling', 'Io', 'Necrophos', 1], ['Dazzle', 'Weaver', 'Centaur Warrunner', 'Crystal Maiden', 'Lone Druid', 1], ['Earthshaker', 'Viper', 'Mirana', 'Razor', 'Bane', 1], ['Vengeful Spirit', 'Weaver', 'Tiny', 'Io', 'Naga Siren', 1], ['Dragon Knight', 'Morphling', 'Shadow Demon', 'Nyx Assassin', 'Treant Protector', 1], ['Razor', 'Juggernaut', 'Naga Siren', 'Batrider', 'Venomancer', 1], ['Chaos Knight', 'Zeus', 'Visage', 'Nyx Assassin', 'Weaver', 1], ['Spirit Breaker', 'Razor', 'Witch Doctor', 'Dark Seer', 'Ember Spirit', 0], ['Puck', 'Mirana', 'Lich', 'Weaver', 'Treant Protector', 1], ['Drow Ranger', 'Sand King', 'Invoker', 'Ogre Magi', 'Warlock', 1], ['Lifestealer', 'Windranger', 'Visage', 'Clockwerk', 'Jakiro', 0], ['Brewmaster', 'Alchemist', 'Tusk', 'Dark Seer', 'Windranger', 1], ['Rubick', 'Puck', 'Huskar', 'Undying', 'Drow Ranger', 0], ['Beastmaster', 'Gyrocopter', 'Rubick', \"Nature's Prophet\", 'Vengeful Spirit', 0], ['Anti-Mage', 'Timbersaw', 'Venomancer', 'Elder Titan', 'Chen', 1], ['Earthshaker', 'Queen of Pain', 'Luna', 'Clockwerk', 'Keeper of the Light', 1], ['Lifestealer', \"Nature's Prophet\", 'Mirana', 'Puck', 'Rubick', 1], ['Ancient Apparition', 'Dragon Knight', 'Earth Spirit', \"Nature's Prophet\", 'Lycan', 1], ['Ogre Magi', 'Dark Seer', 'Juggernaut', 'Oracle', 'Faceless Void', 1], ['Lifestealer', 'Storm Spirit', 'Keeper of the Light', 'Beastmaster', 'Shadow Demon', 1], ['Shadow Shaman', 'Razor', 'Tusk', 'Broodmother', 'Anti-Mage', 0], ['Visage', 'Storm Spirit', 'Ember Spirit', 'Bane', 'Centaur Warrunner', 0], ['Invoker', 'Centaur Warrunner', 'Mirana', 'Enchantress', 'Shadow Shaman', 0], ['Lifestealer', 'Templar Assassin', 'Lina', 'Juggernaut', 'Rubick', 0], ['Ancient Apparition', 'Lina', 'Disruptor', 'Clockwerk', 'Gyrocopter', 1], ['Visage', 'Invoker', 'Dazzle', 'Dark Seer', 'Lycan', 1], ['Dragon Knight', 'Templar Assassin', 'Keeper of the Light', 'Dark Seer', 'Io', 0], ['Phantom Lancer', 'Brewmaster', 'Lion', 'Batrider', 'Shadow Demon', 0], ['Keeper of the Light', 'Shadow Fiend', 'Windranger', 'Naga Siren', 'Vengeful Spirit', 0], ['Rubick', 'Underlord', 'Riki', 'Magnus', 'Bounty Hunter', 1], ['Lina', 'Puck', 'Lifestealer', 'Tinker', 'Shadow Demon', 0], ['Beastmaster', 'Death Prophet', 'Tusk', 'Timbersaw', 'Sven', 1], ['Rubick', 'Windranger', 'Phoenix', 'Dark Seer', 'Gyrocopter', 0], ['Mirana', 'Tinker', 'Venomancer', 'Beastmaster', 'Chen', 0], ['Tiny', 'Timbersaw', 'Rubick', 'Disruptor', 'Sand King', 0], ['Naga Siren', 'Death Prophet', 'Oracle', 'Batrider', 'Huskar', 0], ['Mirana', 'Shadow Fiend', 'Wraith King', 'Dark Seer', 'Keeper of the Light', 1], ['Vengeful Spirit', 'Shadow Fiend', 'Mirana', 'Axe', 'Nyx Assassin', 1], ['Bounty Hunter', 'Death Prophet', 'Shadow Demon', 'Axe', 'Naga Siren', 1], ['Doom', 'Death Prophet', 'Disruptor', 'Slardar', 'Lycan', 1], ['Naga Siren', 'Lifestealer', 'Rubick', 'Batrider', 'Spirit Breaker', 0], ['Ancient Apparition', 'Razor', 'Winter Wyvern', 'Slardar', 'Gyrocopter', 1], ['Alchemist', 'Timbersaw', 'Chen', 'Beastmaster', 'Io', 1], ['Luna', 'Puck', 'Rubick', \"Nature's Prophet\", 'Keeper of the Light', 1], ['Dazzle', 'Batrider', 'Meepo', 'Slardar', 'Sniper', 1], ['Razor', 'Outworld Devourer', 'Rubick', 'Tinker', 'Naga Siren', 0], ['Dragon Knight', 'Lone Druid', 'Venomancer', 'Timbersaw', 'Rubick', 1], ['Weaver', 'Shadow Fiend', 'Rubick', 'Clockwerk', 'Nyx Assassin', 0], ['Dazzle', 'Shadow Fiend', 'Disruptor', 'Axe', 'Ember Spirit', 0], ['Queen of Pain', 'Templar Assassin', 'Tusk', 'Lina', 'Gyrocopter', 1], ['Razor', 'Alchemist', 'Dazzle', 'Dark Seer', 'Shadow Demon', 1], ['Weaver', 'Juggernaut', 'Naga Siren', 'Beastmaster', 'Crystal Maiden', 1], ['Rubick', 'Shadow Fiend', 'Lycan', 'Puck', 'Shadow Shaman', 1], ['Earth Spirit', 'Dark Seer', 'Terrorblade', 'Visage', 'Lifestealer', 1], ['Juggernaut', 'Slark', 'Lion', 'Sven', 'Crystal Maiden', 0], ['Lich', 'Razor', 'Bane', 'Dark Seer', 'Ember Spirit', 0], ['Lifestealer', 'Puck', 'Vengeful Spirit', 'Magnus', 'Keeper of the Light', 1], ['Juggernaut', 'Viper', 'Witch Doctor', 'Dark Seer', 'Lone Druid', 1], ['Luna', 'Magnus', 'Visage', 'Lifestealer', 'Shadow Demon', 1], ['Chaos Knight', 'Slark', 'Visage', 'Lifestealer', 'Io', 0], ['Anti-Mage', 'Magnus', 'Nyx Assassin', 'Dark Seer', 'Bane', 1], ['Gyrocopter', \"Nature's Prophet\", 'Rubick', 'Elder Titan', 'Sand King', 1], ['Disruptor', \"Nature's Prophet\", 'Rubick', 'Batrider', 'Lifestealer', 1], ['Dragon Knight', 'Naga Siren', 'Dark Seer', 'Shadow Demon', 'Wraith King', 1], ['Luna', 'Tusk', 'Chen', 'Dragon Knight', 'Venomancer', 1], ['Io', 'Razor', 'Witch Doctor', 'Tusk', 'Phantom Lancer', 1], ['Mirana', 'Lone Druid', 'Shadow Demon', 'Nyx Assassin', 'Visage', 0], ['Vengeful Spirit', 'Weaver', 'Lycan', 'Brewmaster', 'Disruptor', 0], ['Disruptor', 'Gyrocopter', 'Windranger', 'Clockwerk', 'Nyx Assassin', 1], ['Batrider', 'Queen of Pain', 'Winter Wyvern', 'Tusk', 'Juggernaut', 0], ['Anti-Mage', 'Puck', 'Dazzle', 'Nyx Assassin', 'Visage', 1], ['Shadow Shaman', 'Viper', 'Bane', 'Queen of Pain', 'Gyrocopter', 1], ['Luna', 'Batrider', 'Venomancer', 'Viper', 'Visage', 1], ['Riki', 'Zeus', 'Rubick', 'Beastmaster', 'Lycan', 1], ['Undying', 'Alchemist', 'Lion', 'Batrider', 'Ursa', 0], ['Keeper of the Light', 'Razor', 'Earth Spirit', 'Timbersaw', \"Nature's Prophet\", 0], ['Doom', 'Dragon Knight', 'Ancient Apparition', 'Centaur Warrunner', 'Shadow Demon', 0], ['Lifestealer', 'Razor', 'Dazzle', 'Clockwerk', 'Chen', 0], ['Mirana', 'Timbersaw', 'Io', 'Dragon Knight', 'Sand King', 1], ['Lion', 'Alchemist', 'Shadow Demon', 'Dark Seer', 'Juggernaut', 0], ['Pugna', 'Tinker', 'Visage', 'Alchemist', 'Chen', 0], ['Spectre', 'Invoker', 'Ancient Apparition', 'Centaur Warrunner', 'Rubick', 0], ['Disruptor', 'Queen of Pain', 'Tusk', 'Dark Seer', 'Phantom Lancer', 0], ['Invoker', 'Spectre', 'Sand King', 'Elder Titan', 'Venomancer', 0], ['Night Stalker', 'Invoker', 'Phoenix', 'Tidehunter', 'Lycan', 0], ['Vengeful Spirit', 'Puck', 'Phoenix', 'Dark Seer', 'Lifestealer', 0], ['Ursa', 'Dragon Knight', 'Enigma', 'Batrider', 'Disruptor', 0], ['Legion Commander', 'Batrider', 'Oracle', 'Lone Druid', 'Weaver', 0], ['Luna', 'Nyx Assassin', 'Chen', 'Storm Spirit', 'Shadow Shaman', 1], ['Warlock', 'Shadow Fiend', 'Nyx Assassin', 'Clockwerk', 'Bane', 0], ['Dazzle', \"Nature's Prophet\", 'Ember Spirit', 'Centaur Warrunner', 'Chen', 1], ['Lifestealer', 'Storm Spirit', 'Visage', 'Timbersaw', 'Crystal Maiden', 1], ['Enchantress', 'Viper', 'Tusk', \"Nature's Prophet\", 'Gyrocopter', 1], ['Ursa', 'Nyx Assassin', 'Chen', 'Death Prophet', 'Venomancer', 1], ['Spirit Breaker', 'Razor', 'Tusk', 'Dark Seer', 'Juggernaut', 1], ['Shadow Demon', 'Batrider', 'Magnus', 'Visage', 'Morphling', 0], ['Night Stalker', 'Invoker', 'Rubick', \"Nature's Prophet\", 'Anti-Mage', 1], ['Abaddon', 'Queen of Pain', 'Weaver', 'Batrider', 'Visage', 0], ['Outworld Devourer', 'Razor', 'Rubick', 'Omniknight', 'Lifestealer', 1], ['Chen', 'Batrider', 'Sniper', 'Oracle', 'Faceless Void', 1], ['Shadow Demon', 'Shadow Fiend', 'Tidehunter', 'Mirana', 'Enigma', 1], ['Disruptor', 'Medusa', 'Phoenix', 'Slardar', 'Drow Ranger', 1], ['Io', 'Queen of Pain', 'Nyx Assassin', 'Dark Seer', 'Lycan', 1], ['Luna', 'Templar Assassin', 'Enchantress', 'Clockwerk', 'Nyx Assassin', 1], ['Luna', 'Axe', 'Invoker', 'Bounty Hunter', 'Shadow Demon', 1], ['Skywrath Mage', 'Morphling', 'Brewmaster', 'Razor', 'Sand King', 0], ['Bounty Hunter', 'Death Prophet', 'Phoenix', 'Beastmaster', 'Anti-Mage', 1], ['Shadow Demon', 'Gyrocopter', 'Lifestealer', 'Tinker', 'Undying', 1], ['Dazzle', 'Razor', 'Tusk', 'Undying', 'Slardar', 1], ['Tusk', 'Brewmaster', 'Earth Spirit', 'Broodmother', 'Gyrocopter', 1], ['Dragon Knight', 'Gyrocopter', 'Rubick', 'Dark Seer', 'Treant Protector', 1], ['Dazzle', 'Puck', 'Tusk', 'Phoenix', 'Drow Ranger', 1], ['Winter Wyvern', 'Windranger', 'Phoenix', 'Tusk', 'Gyrocopter', 1], ['Nyx Assassin', 'Juggernaut', 'Warlock', 'Batrider', 'Lycan', 0], ['Luna', 'Nyx Assassin', 'Chen', 'Puck', 'Shadow Shaman', 1], ['Disruptor', 'Morphling', 'Treant Protector', 'Kunkka', 'Dark Seer', 0], ['Ancient Apparition', 'Dragon Knight', 'Tusk', 'Beastmaster', 'Lone Druid', 1], ['Weaver', 'Mirana', 'Crystal Maiden', 'Dark Seer', 'Treant Protector', 0], ['Chaos Knight', 'Slark', 'Io', 'Dark Seer', 'Keeper of the Light', 1], ['Lifestealer', 'Templar Assassin', 'Nyx Assassin', 'Dark Seer', 'Shadow Demon', 1], ['Juggernaut', 'Lone Druid', 'Venomancer', 'Beastmaster', 'Visage', 1], ['Queen of Pain', 'Anti-Mage', 'Vengeful Spirit', 'Dark Seer', 'Jakiro', 1], ['Mirana', 'Lone Druid', 'Shadow Demon', 'Dark Seer', 'Visage', 1], ['Omniknight', 'Lina', 'Winter Wyvern', 'Dark Seer', 'Ursa', 1], ['Vengeful Spirit', 'Gyrocopter', 'Weaver', 'Clockwerk', 'Shadow Demon', 1], ['Zeus', 'Mirana', 'Shadow Demon', 'Faceless Void', 'Anti-Mage', 1], ['Witch Doctor', 'Viper', 'Skywrath Mage', 'Faceless Void', 'Leshrac', 1], ['Dazzle', 'Shadow Fiend', 'Slardar', 'Centaur Warrunner', 'Shadow Shaman', 1], ['Keeper of the Light', 'Puck', 'Luna', \"Nature's Prophet\", 'Shadow Demon', 1], ['Weaver', 'Slark', 'Rubick', 'Windranger', 'Treant Protector', 0], ['Spectre', 'Kunkka', 'Sand King', 'Dark Seer', 'Jakiro', 1], ['Mirana', \"Nature's Prophet\", 'Tidehunter', 'Wraith King', 'Shadow Shaman', 1], ['Gyrocopter', 'Sand King', 'Queen of Pain', 'Dark Seer', 'Jakiro', 1], ['Treant Protector', 'Storm Spirit', 'Morphling', 'Dark Seer', 'Io', 0], ['Lone Druid', 'Weaver', 'Lion', 'Warlock', 'Keeper of the Light', 1], ['Luna', 'Elder Titan', 'Vengeful Spirit', 'Razor', 'Disruptor', 0], ['Silencer', 'Razor', 'Tusk', 'Queen of Pain', 'Gyrocopter', 1], ['Io', 'Lina', 'Witch Doctor', 'Tusk', 'Juggernaut', 0], ['Gyrocopter', 'Nyx Assassin', 'Enchantress', 'Dragon Knight', 'Shadow Shaman', 0], ['Slardar', 'Outworld Devourer', 'Venomancer', 'Elder Titan', 'Lich', 0], ['Phantom Lancer', 'Night Stalker', 'Rubick', 'Clockwerk', 'Keeper of the Light', 1], ['Magnus', 'Storm Spirit', 'Gyrocopter', \"Nature's Prophet\", 'Bane', 1], ['Luna', 'Nyx Assassin', 'Chen', 'Dragon Knight', 'Bane', 1], ['Visage', 'Nyx Assassin', 'Chaos Knight', 'Broodmother', 'Io', 1], ['Dazzle', 'Batrider', 'Shadow Fiend', 'Earthshaker', 'Necrophos', 1], ['Anti-Mage', 'Queen of Pain', 'Lina', 'Dark Seer', 'Shadow Demon', 0], ['Disruptor', 'Abaddon', 'Rubick', 'Razor', 'Viper', 0], ['Io', 'Razor', 'Bane', 'Doom', 'Lycan', 0], ['Lich', 'Queen of Pain', 'Bane', 'Lycan', 'Undying', 1], ['Naga Siren', 'Alchemist', 'Nyx Assassin', 'Clockwerk', 'Jakiro', 1], ['Lifestealer', 'Tinker', 'Rubick', 'Beastmaster', 'Visage', 1], ['Slardar', 'Dragon Knight', 'Winter Wyvern', 'Earthshaker', 'Juggernaut', 1], ['Luna', 'Nyx Assassin', 'Chen', 'Puck', 'Shadow Shaman', 1], ['Jakiro', 'Storm Spirit', 'Puck', 'Lifestealer', 'Lich', 0], ['Undying', 'Razor', 'Winter Wyvern', 'Batrider', 'Slark', 1], ['Enchantress', 'Puck', 'Gyrocopter', 'Clockwerk', 'Shadow Demon', 1], ['Dazzle', 'Brewmaster', 'Terrorblade', 'Visage', 'Timbersaw', 1], ['Luna', 'Templar Assassin', 'Chen', 'Dark Seer', 'Bane', 0], ['Rubick', 'Windranger', 'Shadow Demon', 'Tusk', 'Gyrocopter', 0], ['Kunkka', 'Dark Seer', 'Queen of Pain', 'Shadow Demon', 'Treant Protector', 0], ['Razor', 'Chaos Knight', 'Chen', 'Dark Seer', 'Io', 0], ['Crystal Maiden', 'Magnus', 'Sand King', 'Naga Siren', 'Lifestealer', 1], ['Phoenix', 'Tidehunter', 'Invoker', 'Rubick', 'Lone Druid', 1], ['Enigma', 'Lone Druid', 'Vengeful Spirit', 'Beastmaster', \"Nature's Prophet\", 0], ['Skywrath Mage', 'Storm Spirit', 'Tidehunter', 'Weaver', 'Undying', 1], ['Lich', 'Razor', 'Bane', 'Ember Spirit', 'Tusk', 1], ['Queen of Pain', 'Gyrocopter', 'Crystal Maiden', 'Windranger', 'Treant Protector', 1], ['Chen', 'Outworld Devourer', 'Chaos Knight', 'Disruptor', 'Undying', 1], ['Tinker', 'Wraith King', 'Luna', 'Nyx Assassin', 'Shadow Demon', 1], ['Lion', 'Beastmaster', 'Terrorblade', 'Keeper of the Light', 'Timbersaw', 1], ['Dazzle', 'Mirana', 'Tusk', 'Dark Seer', 'Anti-Mage', 0], ['Ancient Apparition', 'Dragon Knight', 'Tusk', \"Nature's Prophet\", 'Lycan', 1], ['Gyrocopter', 'Queen of Pain', 'Nyx Assassin', 'Dark Seer', 'Jakiro', 0], ['Omniknight', 'Nyx Assassin', 'Tiny', 'Io', 'Ursa', 0], ['Doom', 'Puck', 'Rubick', 'Beastmaster', 'Lycan', 1], ['Razor', 'Anti-Mage', 'Naga Siren', 'Windranger', 'Keeper of the Light', 1], ['Io', 'Venomancer', 'Tusk', 'Sven', 'Clockwerk', 0], ['Enchantress', \"Nature's Prophet\", 'Luna', 'Disruptor', 'Invoker', 1], ['Lion', 'Lina', 'Tusk', 'Magnus', 'Slark', 0], ['Ogre Magi', 'Omniknight', 'Shadow Fiend', 'Earthshaker', 'Lifestealer', 0], ['Io', 'Bristleback', 'Tusk', 'Doom', 'Necrophos', 1], ['Disruptor', 'Lina', 'Phoenix', 'Slardar', 'Gyrocopter', 0], ['Enchantress', 'Lone Druid', 'Disruptor', 'Slardar', 'Weaver', 0], ['Visage', 'Centaur Warrunner', 'Rubick', 'Tinker', 'Dragon Knight', 1], ['Bounty Hunter', 'Axe', 'Zeus', 'Lifestealer', 'Winter Wyvern', 0], ['Lone Druid', 'Queen of Pain', 'Chen', 'Clockwerk', 'Rubick', 0], ['Io', 'Sand King', 'Outworld Devourer', 'Ogre Magi', 'Faceless Void', 1], ['Skywrath Mage', 'Legion Commander', 'Juggernaut', 'Oracle', 'Faceless Void', 0], ['Ancient Apparition', 'Alchemist', 'Winter Wyvern', 'Slardar', 'Gyrocopter', 1], ['Luna', 'Tidehunter', 'Ember Spirit', 'Witch Doctor', 'Io', 0], ['Omniknight', 'Viper', 'Bounty Hunter', 'Slardar', 'Gyrocopter', 1], ['Dragon Knight', 'Outworld Devourer', 'Bane', 'Tinker', 'Treant Protector', 1], ['Lycan', 'Dragon Knight', 'Sand King', 'Batrider', 'Bane', 1], ['Gyrocopter', 'Dark Seer', 'Rubick', 'Clockwerk', 'Nyx Assassin', 1], ['Dragon Knight', 'Gyrocopter', 'Nyx Assassin', 'Juggernaut', 'Rubick', 0], ['Windranger', 'Clockwerk', 'Anti-Mage', 'Zeus', 'Enigma', 0], ['Alchemist', 'Magnus', 'Visage', \"Nature's Prophet\", 'Keeper of the Light', 0], ['Sand King', 'Batrider', 'Lifestealer', \"Nature's Prophet\", 'Rubick', 1], ['Queen of Pain', 'Riki', 'Sand King', 'Clockwerk', 'Io', 1], ['Dazzle', 'Timbersaw', 'Shadow Demon', 'Faceless Void', 'Huskar', 0], ['Io', 'Death Prophet', 'Earth Spirit', 'Axe', 'Lone Druid', 1], ['Bounty Hunter', 'Dark Seer', 'Tinker', 'Skywrath Mage', 'Faceless Void', 0], ['Keeper of the Light', 'Beastmaster', 'Bristleback', 'Lion', 'Death Prophet', 0], ['Lich', 'Leshrac', 'Disruptor', 'Tidehunter', 'Lifestealer', 1], ['Io', 'Beastmaster', 'Morphling', 'Oracle', 'Faceless Void', 1], ['Elder Titan', 'Medusa', 'Oracle', 'Faceless Void', 'Drow Ranger', 1], ['Gyrocopter', \"Nature's Prophet\", 'Io', 'Outworld Devourer', 'Sand King', 1], ['Naga Siren', 'Beastmaster', 'Ursa', 'Oracle', 'Morphling', 1], ['Visage', 'Shadow Fiend', 'Chaos Knight', 'Clockwerk', 'Io', 1], ['Disruptor', 'Mirana', 'Anti-Mage', 'Dragon Knight', 'Silencer', 0], ['Chen', 'Lina', 'Tusk', 'Broodmother', 'Ember Spirit', 0], ['Skywrath Mage', 'Weaver', 'Tidehunter', 'Ember Spirit', 'Shadow Shaman', 1], ['Doom', 'Outworld Devourer', 'Witch Doctor', 'Dark Seer', 'Spectre', 0], ['Lone Druid', 'Storm Spirit', 'Nyx Assassin', 'Tinker', 'Leshrac', 1], ['Mirana', \"Nature's Prophet\", 'Rubick', 'Elder Titan', 'Vengeful Spirit', 1], ['Viper', 'Nyx Assassin', 'Chen', 'Dragon Knight', 'Shadow Shaman', 0], ['Lifestealer', 'Storm Spirit', 'Chen', 'Clockwerk', 'Nyx Assassin', 1], ['Queen of Pain', 'Anti-Mage', 'Enchantress', \"Nature's Prophet\", 'Shadow Demon', 1], ['Earthshaker', 'Bounty Hunter', 'Lone Druid', 'Magnus', 'Witch Doctor', 1], ['Luna', 'Timbersaw', 'Chen', 'Dragon Knight', 'Lion', 1], ['Dragon Knight', 'Brewmaster', 'Chen', \"Nature's Prophet\", 'Shadow Demon', 0], ['Enchantress', 'Gyrocopter', 'Clockwerk', 'Tinker', 'Undying', 1], ['Puck', 'Mirana', 'Chen', 'Lifestealer', 'Treant Protector', 1], ['Chen', 'Nyx Assassin', 'Morphling', 'Tinker', 'Shadow Shaman', 0], ['Shadow Shaman', 'Invoker', 'Enchantress', 'Nyx Assassin', 'Anti-Mage', 1], ['Weaver', 'Storm Spirit', 'Visage', 'Elder Titan', 'Crystal Maiden', 1], ['Batrider', 'Anti-Mage', 'Crystal Maiden', 'Tinker', 'Treant Protector', 0], ['Rubick', 'Axe', 'Alchemist', 'Slardar', 'Timbersaw', 1], ['Gyrocopter', 'Storm Spirit', 'Rubick', 'Lifestealer', 'Ogre Magi', 0], ['Dazzle', 'Shadow Fiend', 'Winter Wyvern', 'Beastmaster', 'Necrophos', 0], ['Lifestealer', 'Windranger', 'Chen', 'Dark Seer', 'Shadow Demon', 0], ['Razor', 'Gyrocopter', 'Crystal Maiden', 'Clockwerk', 'Bane', 1], ['Dark Seer', 'Spectre', 'Visage', 'Clockwerk', 'Venomancer', 0], ['Rubick', 'Legion Commander', 'Templar Assassin', 'Keeper of the Light', 'Timbersaw', 0], ['Gyrocopter', 'Magnus', 'Chen', 'Juggernaut', 'Shadow Demon', 1], ['Weaver', 'Storm Spirit', 'Crystal Maiden', 'Elder Titan', 'Vengeful Spirit', 1], ['Rubick', 'Batrider', 'Morphling', 'Tinker', 'Shadow Shaman', 1], ['Naga Siren', 'Gyrocopter', 'Rubick', 'Clockwerk', 'Nyx Assassin', 1], ['Tusk', 'Puck', 'Phoenix', \"Nature's Prophet\", 'Luna', 0], ['Rubick', 'Slark', 'Centaur Warrunner', 'Invoker', 'Visage', 0], ['Lifestealer', 'Storm Spirit', 'Rubick', 'Razor', 'Venomancer', 0], ['Venomancer', 'Nyx Assassin', 'Lone Druid', 'Clockwerk', 'Undying', 1], ['Gyrocopter', \"Nature's Prophet\", 'Naga Siren', 'Zeus', 'Shadow Shaman', 0], ['Mirana', 'Slark', 'Rubick', 'Alchemist', 'Visage', 1], ['Undying', 'Shadow Fiend', 'Winter Wyvern', 'Windranger', 'Dark Seer', 1], ['Ogre Magi', 'Axe', 'Outworld Devourer', 'Skywrath Mage', 'Vengeful Spirit', 0], ['Elder Titan', 'Alchemist', 'Rubick', 'Faceless Void', 'Lifestealer', 0], ['Kunkka', 'Death Prophet', 'Rubick', 'Sand King', 'Naga Siren', 0], ['Lifestealer', 'Puck', 'Vengeful Spirit', 'Dark Seer', 'Tinker', 0], ['Enchantress', 'Puck', 'Gyrocopter', \"Nature's Prophet\", 'Keeper of the Light', 1], ['Shadow Shaman', 'Nyx Assassin', 'Ancient Apparition', 'Axe', 'Luna', 1], ['Gyrocopter', 'Brewmaster', 'Enchantress', 'Dark Seer', 'Nyx Assassin', 1], ['Lifestealer', 'Slark', 'Clockwerk', 'Dark Seer', 'Jakiro', 0], ['Rubick', 'Weaver', 'Ancient Apparition', 'Dragon Knight', 'Bristleback', 1], ['Elder Titan', 'Timbersaw', 'Shadow Demon', 'Dark Seer', 'Lycan', 0], ['Beastmaster', 'Death Prophet', 'Rubick', \"Nature's Prophet\", 'Gyrocopter', 0], ['Nyx Assassin', 'Death Prophet', 'Phoenix', \"Nature's Prophet\", 'Ursa', 1], ['Shadow Shaman', 'Nyx Assassin', 'Enchantress', 'Invoker', 'Slark', 0], ['Ancient Apparition', 'Dragon Knight', 'Earth Spirit', 'Beastmaster', 'Ursa', 0], ['Weaver', 'Dark Seer', 'Venomancer', 'Night Stalker', 'Visage', 1], ['Gyrocopter', \"Nature's Prophet\", 'Alchemist', 'Dragon Knight', 'Bane', 1], ['Winter Wyvern', 'Razor', 'Tusk', 'Dark Seer', 'Ember Spirit', 1], ['Undying', 'Viper', 'Bane', 'Queen of Pain', 'Necrophos', 0], ['Ursa', 'Lifestealer', 'Shadow Demon', 'Magnus', 'Keeper of the Light', 1], ['Enigma', 'Puck', 'Earth Spirit', \"Nature's Prophet\", 'Anti-Mage', 1], ['Gyrocopter', 'Lone Druid', 'Mirana', 'Clockwerk', 'Crystal Maiden', 0], ['Tusk', 'Timbersaw', 'Medusa', 'Dazzle', 'Lifestealer', 0], ['Lina', 'Puck', 'Vengeful Spirit', \"Nature's Prophet\", 'Gyrocopter', 1], ['Night Stalker', 'Lone Druid', 'Crystal Maiden', 'Timbersaw', 'Visage', 0], ['Vengeful Spirit', 'Lone Druid', 'Mirana', 'Storm Spirit', 'Lifestealer', 1], ['Anti-Mage', 'Puck', 'Nyx Assassin', 'Weaver', 'Keeper of the Light', 1], ['Lich', 'Faceless Void', 'Magnus', 'Ogre Magi', 'Lifestealer', 1], ['Slardar', 'Disruptor', 'Omniknight', 'Tidehunter', 'Lone Druid', 0], ['Naga Siren', 'Anti-Mage', 'Crystal Maiden', 'Dark Seer', 'Treant Protector', 1], ['Razor', 'Shadow Fiend', 'Dazzle', 'Puck', 'Crystal Maiden', 0], ['Elder Titan', 'Timbersaw', 'Phoenix', 'Tidehunter', 'Slark', 1], ['Alchemist', 'Lion', 'Phoenix', \"Nature's Prophet\", 'Slark', 1], ['Naga Siren', 'Puck', 'Chen', 'Viper', 'Treant Protector', 0], ['Puck', 'Phantom Lancer', 'Visage', 'Dark Seer', 'Rubick', 0], ['Skywrath Mage', 'Templar Assassin', 'Faceless Void', 'Ember Spirit', 'Earthshaker', 1], ['Lifestealer', 'Puck', 'Vengeful Spirit', 'Dark Seer', 'Gyrocopter', 1], ['Luna', 'Mirana', 'Chen', 'Clockwerk', 'Treant Protector', 1], ['Slardar', 'Shadow Fiend', 'Naga Siren', 'Centaur Warrunner', 'Dazzle', 0], ['Bane', 'Faceless Void', 'Magnus', \"Nature's Prophet\", 'Jakiro', 0], ['Mirana', 'Slardar', 'Rubick', 'Shadow Demon', 'Morphling', 1], ['Weaver', 'Lone Druid', 'Mirana', 'Beastmaster', 'Visage', 1], ['Lone Druid', 'Templar Assassin', 'Keeper of the Light', 'Clockwerk', 'Shadow Demon', 1], ['Riki', 'Bristleback', 'Lion', 'Dark Seer', 'Lifestealer', 0], ['Tidehunter', 'Templar Assassin', 'Sven', 'Clockwerk', 'Keeper of the Light', 0], ['Kunkka', 'Faceless Void', 'Invoker', 'Oracle', 'Huskar', 0], ['Razor', 'Mirana', 'Naga Siren', 'Dragon Knight', 'Shadow Demon', 1], ['Outworld Devourer', 'Bristleback', 'Bounty Hunter', 'Keeper of the Light', 'Juggernaut', 0], ['Mirana', 'Morphling', 'Keeper of the Light', 'Dark Seer', 'Wraith King', 1], ['Chen', \"Nature's Prophet\", 'Ember Spirit', 'Magnus', 'Rubick', 0], ['Lifestealer', 'Invoker', 'Disruptor', 'Clockwerk', 'Dazzle', 1], ['Io', 'Death Prophet', 'Enchantress', 'Dark Seer', 'Chaos Knight', 0], ['Gyrocopter', 'Weaver', 'Crystal Maiden', 'Timbersaw', 'Visage', 0], ['Juggernaut', \"Nature's Prophet\", 'Dazzle', 'Centaur Warrunner', 'Chen', 0], ['Weaver', 'Shadow Fiend', 'Dazzle', 'Wraith King', 'Dark Seer', 1], ['Io', 'Bristleback', 'Earth Spirit', \"Nature's Prophet\", 'Lone Druid', 0], ['Disruptor', 'Windranger', 'Lone Druid', 'Weaver', 'Shadow Demon', 0], ['Omniknight', 'Windranger', 'Tusk', 'Dark Seer', 'Ember Spirit', 1], ['Lifestealer', 'Lone Druid', 'Disruptor', 'Batrider', 'Naga Siren', 1], ['Gyrocopter', 'Timbersaw', 'Crystal Maiden', 'Batrider', 'Sand King', 0], ['Io', 'Lina', 'Tusk', 'Legion Commander', 'Tiny', 1], ['Dragon Knight', 'Morphling', 'Nyx Assassin', 'Dark Seer', 'Shadow Demon', 1], ['Lifestealer', 'Slark', 'Leshrac', 'Brewmaster', 'Nyx Assassin', 1], ['Undying', 'Outworld Devourer', 'Tusk', 'Broodmother', 'Lone Druid', 1], ['Io', 'Invoker', 'Winter Wyvern', 'Dark Seer', 'Ursa', 1], ['Chen', 'Invoker', 'Earth Spirit', 'Dark Seer', 'Sven', 1], ['Lifestealer', 'Lone Druid', 'Jakiro', 'Batrider', 'Crystal Maiden', 1], ['Treant Protector', 'Invoker', 'Tusk', \"Nature's Prophet\", 'Gyrocopter', 1], ['Mirana', 'Timbersaw', 'Crystal Maiden', 'Dragon Knight', 'Lich', 0], ['Lifestealer', 'Puck', 'Chen', 'Clockwerk', 'Rubick', 1], ['Dazzle', 'Faceless Void', 'Terrorblade', 'Pudge', 'Ember Spirit', 0], ['Mirana', 'Weaver', 'Faceless Void', 'Razor', 'Sand King', 1], ['Chen', 'Queen of Pain', 'Luna', 'Disruptor', 'Puck', 1], ['Lone Druid', 'Storm Spirit', 'Lion', 'Dark Seer', 'Nyx Assassin', 1], ['Luna', 'Magnus', 'Visage', \"Nature's Prophet\", 'Shadow Demon', 0], ['Lich', 'Alchemist', 'Winter Wyvern', 'Doom', 'Slark', 0], ['Ancient Apparition', 'Nyx Assassin', 'Invoker', 'Slardar', 'Timbersaw', 0], ['Undying', 'Razor', 'Night Stalker', 'Dark Seer', 'Gyrocopter', 1], ['Gyrocopter', 'Puck', 'Leshrac', 'Juggernaut', 'Ogre Magi', 1], ['Disruptor', 'Magnus', 'Slardar', 'Naga Siren', 'Lifestealer', 0], ['Alchemist', 'Brewmaster', 'Visage', 'Dark Seer', 'Shadow Demon', 1], ['Dazzle', 'Batrider', 'Puck', 'Ogre Magi', 'Anti-Mage', 1], ['Kunkka', 'Mirana', 'Keeper of the Light', 'Sand King', 'Ember Spirit', 0], ['Ancient Apparition', 'Nyx Assassin', 'Crystal Maiden', 'Shadow Fiend', 'Lycan', 1], ['Doom', 'Spectre', 'Visage', 'Dark Seer', 'Rubick', 0], ['Clockwerk', 'Invoker', 'Winter Wyvern', 'Tidehunter', 'Luna', 0], ['Gyrocopter', \"Nature's Prophet\", 'Rubick', 'Elder Titan', 'Sand King', 1], ['Gyrocopter', 'Puck', 'Leshrac', 'Lifestealer', 'Ogre Magi', 1], ['Luna', 'Queen of Pain', 'Leshrac', \"Nature's Prophet\", 'Nyx Assassin', 0], ['Clinkz', 'Queen of Pain', 'Chen', 'Timbersaw', 'Crystal Maiden', 0], ['Ancient Apparition', 'Queen of Pain', 'Winter Wyvern', 'Phoenix', 'Gyrocopter', 1], ['Riki', 'Timbersaw', 'Disruptor', 'Slardar', 'Ursa', 1], ['Enigma', 'Gyrocopter', 'Windranger', 'Magnus', 'Keeper of the Light', 0], ['Pudge', 'Mirana', 'Oracle', 'Beastmaster', 'Huskar', 1], ['Lycan', \"Nature's Prophet\", 'Shadow Shaman', 'Nyx Assassin', 'Venomancer', 1], ['Io', 'Razor', 'Bane', 'Undying', 'Gyrocopter', 0], ['Kunkka', 'Morphling', 'Keeper of the Light', 'Dark Seer', 'Shadow Demon', 1], ['Ogre Magi', 'Slardar', 'Mirana', 'Warlock', 'Lycan', 0], ['Vengeful Spirit', 'Shadow Fiend', 'Tusk', 'Clockwerk', 'Leshrac', 0], ['Undying', 'Death Prophet', 'Rubick', 'Batrider', 'Timbersaw', 0], ['Luna', 'Puck', 'Keeper of the Light', \"Nature's Prophet\", 'Rubick', 1], ['Witch Doctor', 'Tinker', 'Faceless Void', 'Viper', 'Earthshaker', 1], ['Dark Seer', 'Morphling', 'Kunkka', 'Lich', 'Disruptor', 1], ['Pugna', 'Bristleback', 'Skywrath Mage', 'Dragon Knight', 'Chen', 0], ['Skywrath Mage', 'Shadow Fiend', 'Tidehunter', 'Razor', 'Wraith King', 1], ['Night Stalker', 'Alchemist', 'Phoenix', 'Slardar', 'Lifestealer', 1], ['Enchantress', 'Juggernaut', 'Nyx Assassin', 'Rubick', 'Timbersaw', 0], ['Medusa', 'Timbersaw', 'Witch Doctor', 'Clockwerk', 'Visage', 0], ['Spectre', 'Invoker', 'Ancient Apparition', 'Clockwerk', 'Rubick', 1], ['Mirana', 'Naga Siren', 'Sand King', 'Batrider', 'Vengeful Spirit', 1], ['Oracle', 'Death Prophet', 'Earth Spirit', 'Dark Seer', 'Lycan', 0], ['Gyrocopter', 'Warlock', 'Visage', 'Batrider', 'Rubick', 1], ['Crystal Maiden', 'Brewmaster', 'Invoker', 'Keeper of the Light', 'Lycan', 1], ['Slardar', 'Shadow Fiend', 'Shadow Demon', 'Puck', 'Wraith King', 1], ['Tusk', 'Invoker', 'Oracle', 'Beastmaster', 'Lycan', 1], ['Luna', 'Bounty Hunter', 'Rubick', 'Alchemist', 'Chen', 1], ['Windranger', 'Puck', 'Chaos Knight', 'Clockwerk', 'Io', 1], ['Elder Titan', 'Beastmaster', 'Faceless Void', 'Oracle', 'Morphling', 0], ['Lifestealer', 'Storm Spirit', 'Bane', 'Beastmaster', 'Keeper of the Light', 1], ['Leshrac', 'Invoker', 'Tusk', 'Batrider', 'Gyrocopter', 0], ['Dragon Knight', 'Ursa', 'Io', 'Beastmaster', 'Bane', 1], ['Enchantress', 'Nyx Assassin', 'Gyrocopter', 'Broodmother', 'Shadow Demon', 1], ['Bounty Hunter', 'Outworld Devourer', 'Witch Doctor', 'Tidehunter', 'Lone Druid', 1], ['Visage', 'Outworld Devourer', 'Chaos Knight', 'Clockwerk', 'Keeper of the Light', 1], ['Dragon Knight', 'Queen of Pain', 'Dazzle', 'Naga Siren', 'Crystal Maiden', 1], ['Doom', 'Puck', 'Witch Doctor', \"Nature's Prophet\", 'Phantom Lancer', 1], ['Dazzle', 'Windranger', 'Phoenix', 'Tusk', 'Gyrocopter', 1], ['Rubick', 'Vengeful Spirit', 'Lycan', 'Dragon Knight', 'Nyx Assassin', 1], ['Lifestealer', 'Brewmaster', 'Rubick', 'Clockwerk', 'Io', 1], ['Queen of Pain', 'Gyrocopter', 'Crystal Maiden', 'Batrider', 'Treant Protector', 1], ['Lifestealer', 'Puck', 'Dazzle', 'Broodmother', 'Gyrocopter', 1], ['Disruptor', 'Clockwerk', 'Mirana', 'Drow Ranger', 'Invoker', 1], ['Luna', \"Nature's Prophet\", 'Venomancer', 'Beastmaster', 'Tidehunter', 0], ['Dazzle', 'Shadow Fiend', 'Ogre Magi', 'Clockwerk', 'Ember Spirit', 0], ['Ancient Apparition', 'Razor', 'Oracle', 'Axe', 'Sven', 0], ['Nyx Assassin', 'Chaos Knight', 'Weaver', 'Disruptor', 'Keeper of the Light', 1], ['Chen', 'Kunkka', 'Gyrocopter', 'Dark Seer', 'Rubick', 0], ['Rubick', 'Batrider', 'Ember Spirit', 'Io', 'Luna', 1], ['Elder Titan', 'Juggernaut', 'Lion', 'Timbersaw', 'Morphling', 1], ['Witch Doctor', 'Nyx Assassin', 'Naga Siren', 'Rubick', 'Lifestealer', 1], ['Vengeful Spirit', 'Leshrac', 'Phoenix', 'Dark Seer', 'Lycan', 1], ['Leshrac', 'Windranger', 'Lifestealer', 'Dark Seer', 'Rubick', 0], ['Undying', 'Shadow Fiend', 'Bane', 'Magnus', 'Ursa', 1], ['Luna', 'Timbersaw', 'Vengeful Spirit', 'Ember Spirit', 'Treant Protector', 0], ['Chen', 'Death Prophet', 'Witch Doctor', 'Beastmaster', 'Anti-Mage', 1], ['Luna', \"Nature's Prophet\", 'Sand King', 'Kunkka', 'Visage', 0], ['Dragon Knight', 'Mirana', 'Bane', 'Dark Seer', 'Wraith King', 1], ['Luna', 'Beastmaster', 'Chen', 'Clockwerk', 'Nyx Assassin', 1], ['Treant Protector', 'Templar Assassin', 'Ancient Apparition', 'Axe', 'Slardar', 0], ['Spirit Breaker', 'Batrider', 'Sniper', 'Rubick', 'Lone Druid', 1], ['Lion', \"Nature's Prophet\", 'Tidehunter', 'Dragon Knight', 'Enchantress', 0], ['Disruptor', 'Invoker', 'Vengeful Spirit', \"Nature's Prophet\", 'Anti-Mage', 1], ['Mirana', 'Shadow Fiend', 'Keeper of the Light', 'Dark Seer', 'Wraith King', 1], ['Viper', 'Ursa', 'Rubick', 'Batrider', 'Bane', 1], ['Skywrath Mage', 'Earthshaker', 'Lycan', 'Razor', 'Wraith King', 1], ['Omniknight', 'Lina', 'Tusk', 'Dark Seer', 'Ursa', 1], ['Gyrocopter', \"Nature's Prophet\", 'Rubick', 'Beastmaster', 'Visage', 1], ['Spirit Breaker', 'Batrider', 'Rubick', 'Oracle', 'Morphling', 1], ['Skywrath Mage', 'Queen of Pain', 'Faceless Void', 'Razor', 'Wraith King', 0], ['Bounty Hunter', 'Legion Commander', 'Juggernaut', 'Rubick', 'Timbersaw', 1], ['Skywrath Mage', 'Outworld Devourer', 'Batrider', 'Ember Spirit', 'Wraith King', 0], ['Witch Doctor', 'Sand King', 'Terrorblade', 'Mirana', 'Timbersaw', 1], ['Witch Doctor', 'Morphling', 'Tidehunter', 'Viper', 'Shadow Shaman', 0], ['Ogre Magi', 'Dark Seer', 'Slardar', 'Io', 'Luna', 0], ['Gyrocopter', 'Dark Seer', 'Nyx Assassin', 'Clockwerk', 'Shadow Demon', 1], ['Io', 'Razor', 'Witch Doctor', \"Nature's Prophet\", 'Wraith King', 1], ['Tusk', 'Death Prophet', 'Phoenix', 'Faceless Void', \"Nature's Prophet\", 1], ['Anti-Mage', 'Nyx Assassin', 'Dazzle', 'Naga Siren', 'Rubick', 0], ['Disruptor', 'Batrider', 'Weaver', 'Invoker', 'Vengeful Spirit', 1], ['Terrorblade', 'Faceless Void', 'Pudge', 'Ember Spirit', 'Dazzle', 0], ['Luna', 'Windranger', 'Rubick', 'Doom', 'Visage', 1], ['Lina', 'Lone Druid', 'Juggernaut', 'Queen of Pain', 'Bane', 0], ['Rubick', 'Viper', 'Winter Wyvern', 'Tusk', 'Necrophos', 1], ['Omniknight', 'Lina', 'Tusk', 'Dark Seer', 'Ursa', 0], ['Brewmaster', 'Razor', 'Tusk', 'Clockwerk', 'Ember Spirit', 1], ['Weaver', 'Doom', 'Mirana', 'Batrider', 'Visage', 1], ['Rubick', 'Anti-Mage', 'Brewmaster', \"Nature's Prophet\", 'Keeper of the Light', 1], ['Mirana', 'Tinker', 'Naga Siren', 'Nyx Assassin', 'Bane', 0], ['Naga Siren', 'Gyrocopter', 'Rubick', 'Batrider', 'Treant Protector', 1], ['Lifestealer', 'Templar Assassin', 'Chen', 'Clockwerk', 'Shadow Demon', 1], ['Dazzle', 'Shadow Fiend', 'Winter Wyvern', 'Earthshaker', 'Necrophos', 1], ['Shadow Shaman', 'Razor', 'Earth Spirit', 'Dark Seer', 'Lycan', 1], ['Slardar', 'Shadow Fiend', 'Bane', 'Batrider', 'Treant Protector', 1], ['Invoker', 'Enchantress', 'Luna', 'Batrider', 'Disruptor', 0], ['Zeus', 'Death Prophet', 'Earth Spirit', 'Slardar', 'Lifestealer', 1], ['Riki', 'Alchemist', 'Earth Spirit', 'Dark Seer', 'Phantom Assassin', 1], ['Winter Wyvern', 'Shadow Fiend', 'Shadow Demon', 'Earthshaker', 'Gyrocopter', 1], ['Anti-Mage', 'Mirana', 'Naga Siren', 'Nyx Assassin', 'Shadow Demon', 1], ['Shadow Fiend', 'Slardar', 'Batrider', 'Mirana', 'Shadow Shaman', 1], ['Dazzle', 'Razor', 'Tusk', 'Windranger', 'Broodmother', 1], ['Disruptor', 'Anti-Mage', 'Beastmaster', 'Clockwerk', 'Keeper of the Light', 0], ['Naga Siren', 'Anti-Mage', 'Crystal Maiden', 'Dark Seer', 'Treant Protector', 0], ['Io', 'Invoker', 'Tusk', 'Earthshaker', 'Tiny', 1], ['Razor', 'Alchemist', 'Visage', 'Batrider', 'Nyx Assassin', 1], ['Ursa', \"Nature's Prophet\", 'Ancient Apparition', 'Batrider', 'Rubick', 1], ['Luna', 'Invoker', 'Ancient Apparition', 'Nyx Assassin', 'Bane', 0], ['Luna', \"Nature's Prophet\", 'Rubick', 'Batrider', 'Disruptor', 1], ['Io', 'Queen of Pain', 'Chaos Knight', 'Clockwerk', 'Keeper of the Light', 1], ['Lifestealer', 'Templar Assassin', 'Bane', 'Brewmaster', 'Jakiro', 1], ['Spirit Breaker', 'Death Prophet', 'Ogre Magi', \"Nature's Prophet\", 'Ursa', 1], ['Jakiro', 'Nyx Assassin', 'Tiny', 'Beastmaster', 'Io', 1], ['Mirana', 'Windranger', 'Visage', 'Timbersaw', 'Doom', 0], ['Doom', 'Invoker', 'Oracle', 'Batrider', 'Spectre', 1], ['Puck', 'Gyrocopter', 'Disruptor', \"Nature's Prophet\", 'Shadow Demon', 0], ['Luna', 'Batrider', 'Venomancer', 'Viper', 'Visage', 1], ['Witch Doctor', 'Invoker', 'Phoenix', 'Faceless Void', 'Necrophos', 0], ['Spirit Breaker', 'Viper', 'Winter Wyvern', 'Dark Seer', 'Slark', 1], ['Luna', 'Nyx Assassin', 'Enchantress', 'Dragon Knight', 'Visage', 0], ['Enchantress', 'Puck', 'Chaos Knight', \"Nature's Prophet\", 'Io', 1], ['Lich', 'Invoker', 'Oracle', 'Faceless Void', 'Gyrocopter', 1], ['Lifestealer', 'Storm Spirit', 'Visage', 'Puck', 'Shadow Demon', 0], ['Naga Siren', 'Lifestealer', 'Spirit Breaker', \"Nature's Prophet\", 'Rubick', 1], ['Rubick', 'Tiny', 'Ancient Apparition', 'Death Prophet', 'Dark Seer', 0], ['Ursa', 'Morphling', 'Nyx Assassin', 'Batrider', 'Rubick', 1], ['Lycan', 'Invoker', 'Sand King', 'Batrider', 'Shadow Demon', 0], ['Ancient Apparition', 'Razor', 'Tusk', 'Timbersaw', 'Wraith King', 1], ['Crystal Maiden', 'Legion Commander', 'Ember Spirit', 'Magnus', 'Lone Druid', 1], ['Dazzle', 'Razor', 'Earth Spirit', 'Timbersaw', 'Ursa', 1], ['Enigma', 'Outworld Devourer', 'Witch Doctor', 'Beastmaster', 'Juggernaut', 1], ['Queen of Pain', 'Gyrocopter', 'Visage', 'Tinker', 'Rubick', 1], ['Ember Spirit', 'Invoker', 'Bane', 'Dark Seer', 'Visage', 1], ['Queen of Pain', 'Gyrocopter', 'Visage', 'Enigma', 'Lich', 1], ['Tidehunter', 'Death Prophet', 'Vengeful Spirit', 'Spirit Breaker', 'Gyrocopter', 1], ['Magnus', 'Storm Spirit', 'Lone Druid', 'Tinker', 'Dazzle', 1], ['Mirana', 'Templar Assassin', 'Keeper of the Light', 'Axe', 'Wraith King', 0], ['Medusa', 'Batrider', 'Visage', 'Elder Titan', 'Naga Siren', 1], ['Luna', 'Templar Assassin', 'Enchantress', 'Dark Seer', 'Nyx Assassin', 1], ['Lone Druid', 'Storm Spirit', 'Enchantress', 'Clockwerk', 'Shadow Demon', 0], ['Disruptor', 'Razor', 'Tusk', 'Undying', 'Phantom Lancer', 1], ['Silencer', 'Beastmaster', 'Winter Wyvern', 'Tusk', 'Phantom Lancer', 0], ['Outworld Devourer', 'Juggernaut', 'Naga Siren', 'Beastmaster', 'Crystal Maiden', 1], ['Vengeful Spirit', 'Alchemist', 'Earth Spirit', 'Dark Seer', 'Ursa', 1], ['Lifestealer', 'Storm Spirit', 'Enchantress', 'Batrider', 'Rubick', 1], ['Ogre Magi', 'Dark Seer', 'Slardar', 'Io', 'Luna', 0], ['Undying', 'Mirana', 'Shadow Demon', 'Axe', 'Anti-Mage', 1], ['Mirana', 'Timbersaw', 'Earth Spirit', 'Tidehunter', 'Sven', 0], ['Weaver', 'Tinker', 'Sand King', 'Batrider', 'Bane', 1], ['Razor', 'Weaver', 'Batrider', 'Visage', 'Doom', 1], ['Lifestealer', 'Puck', 'Nyx Assassin', 'Clockwerk', 'Shadow Demon', 1], ['Viper', \"Nature's Prophet\", 'Crystal Maiden', 'Puck', 'Vengeful Spirit', 0], ['Crystal Maiden', 'Shadow Fiend', 'Tusk', 'Tidehunter', 'Slark', 1], ['Naga Siren', 'Gyrocopter', 'Shadow Shaman', 'Batrider', 'Rubick', 1], ['Luna', 'Queen of Pain', 'Visage', \"Nature's Prophet\", 'Nyx Assassin', 1], ['Dazzle', 'Nyx Assassin', 'Ancient Apparition', 'Invoker', 'Lifestealer', 1], ['Dazzle', 'Alchemist', 'Phoenix', 'Nyx Assassin', 'Huskar', 1], ['Gyrocopter', 'Night Stalker', 'Rubick', 'Weaver', 'Keeper of the Light', 0], ['Jakiro', 'Tiny', 'Beastmaster', 'Rubick', 'Gyrocopter', 1], ['Spirit Breaker', 'Alchemist', 'Dazzle', 'Dark Seer', 'Windranger', 1], ['Bounty Hunter', 'Puck', 'Tusk', \"Nature's Prophet\", 'Juggernaut', 1], ['Enigma', 'Broodmother', 'Witch Doctor', 'Beastmaster', \"Nature's Prophet\", 1], ['Gyrocopter', 'Queen of Pain', 'Visage', 'Batrider', 'Bane', 1], ['Wraith King', 'Templar Assassin', 'Venomancer', 'Viper', 'Enigma', 0], ['Rubick', 'Treant Protector', 'Mirana', 'Dragon Knight', 'Doom', 1], ['Mirana', 'Morphling', 'Tidehunter', 'Wraith King', 'Rubick', 1], ['Treant Protector', 'Naga Siren', 'Centaur Warrunner', 'Tinker', 'Bane', 1], ['Bounty Hunter', 'Outworld Devourer', 'Nyx Assassin', 'Tinker', 'Rubick', 1], ['Wraith King', 'Templar Assassin', 'Sand King', 'Dark Seer', 'Visage', 0], ['Ember Spirit', 'Invoker', 'Sand King', 'Centaur Warrunner', 'Vengeful Spirit', 0], ['Visage', 'Shadow Fiend', 'Crystal Maiden', 'Nyx Assassin', 'Slardar', 1], ['Arc Warden', 'Dark Seer', 'Dragon Knight', 'Dazzle', 'Timbersaw', 1], ['Axe', 'Razor', 'Earth Spirit', 'Dark Seer', 'Lycan', 0], ['Witch Doctor', 'Razor', 'Tusk', 'Slardar', 'Ursa', 0], ['Doom', 'Puck', 'Rubick', 'Lifestealer', 'Lone Druid', 0], ['Silencer', 'Venomancer', 'Bane', 'Doom', 'Tusk', 1], ['Ursa', 'Nyx Assassin', 'Keeper of the Light', 'Shadow Demon', 'Terrorblade', 0], ['Outworld Devourer', 'Storm Spirit', 'Crystal Maiden', 'Juggernaut', 'Treant Protector', 1], ['Storm Spirit', 'Beastmaster', 'Io', 'Keeper of the Light', 'Slark', 1], ['Queen of Pain', 'Storm Spirit', 'Chen', 'Dark Seer', 'Shadow Demon', 1], ['Gyrocopter', 'Dragon Knight', 'Naga Siren', 'Centaur Warrunner', 'Dazzle', 0], ['Bane', 'Storm Spirit', 'Chen', 'Outworld Devourer', 'Gyrocopter', 0], ['Night Stalker', 'Clinkz', 'Bane', 'Beastmaster', 'Visage', 1], ['Puck', 'Weaver', 'Crystal Maiden', 'Lone Druid', 'Treant Protector', 1], ['Mirana', 'Lone Druid', 'Crystal Maiden', 'Batrider', 'Visage', 0], ['Alchemist', 'Lifestealer', 'Nyx Assassin', \"Nature's Prophet\", 'Lina', 0], ['Mirana', 'Naga Siren', 'Crystal Maiden', 'Nyx Assassin', 'Visage', 0], ['Viper', 'Venomancer', 'Chen', 'Dark Seer', 'Sand King', 0], ['Juggernaut', 'Storm Spirit', 'Witch Doctor', 'Templar Assassin', 'Visage', 1], ['Luna', 'Nyx Assassin', 'Chen', 'Storm Spirit', 'Visage', 1], ['Luna', \"Nature's Prophet\", 'Bane', 'Puck', 'Visage', 1], ['Lone Druid', 'Lifestealer', 'Visage', 'Dark Seer', 'Lina', 0], ['Lich', 'Centaur Warrunner', 'Terrorblade', 'Crystal Maiden', 'Necrophos', 0], ['Oracle', 'Legion Commander', 'Invoker', 'Sand King', 'Ursa', 1], [\"Nature's Prophet\", 'Shadow Shaman', 'Lycan', 'Brewmaster', 'Rubick', 0], ['Rubick', \"Nature's Prophet\", 'Morphling', 'Elder Titan', 'Venomancer', 1], ['Io', 'Death Prophet', 'Rubick', 'Bristleback', 'Lone Druid', 1], ['Earth Spirit', 'Dark Seer', 'Ember Spirit', 'Shadow Demon', 'Sven', 0], ['Disruptor', 'Anti-Mage', 'Beastmaster', 'Clockwerk', 'Keeper of the Light', 1], ['Crystal Maiden', 'Brewmaster', 'Shadow Fiend', 'Keeper of the Light', 'Slark', 0], ['Night Stalker', \"Nature's Prophet\", 'Windranger', 'Clockwerk', 'Visage', 0], ['Io', 'Leshrac', 'Lion', 'Tidehunter', 'Morphling', 0], ['Luna', 'Timbersaw', 'Enchantress', 'Storm Spirit', 'Visage', 1], ['Magnus', 'Gyrocopter', 'Rubick', 'Clockwerk', 'Keeper of the Light', 1], ['Treant Protector', 'Outworld Devourer', 'Phoenix', 'Faceless Void', 'Gyrocopter', 1], ['Bounty Hunter', 'Sven', 'Bane', 'Beastmaster', 'Lion', 0], ['Jakiro', 'Faceless Void', 'Magnus', 'Clockwerk', 'Keeper of the Light', 1], ['Dazzle', 'Centaur Warrunner', 'Juggernaut', 'Rubick', 'Alchemist', 0], ['Luna', 'Puck', 'Enchantress', 'Dark Seer', 'Shadow Demon', 1], ['Dragon Knight', 'Weaver', 'Crystal Maiden', 'Windranger', 'Treant Protector', 1], ['Legion Commander', 'Invoker', 'Tusk', 'Beastmaster', 'Gyrocopter', 0], ['Skywrath Mage', 'Batrider', 'Oracle', 'Juggernaut', 'Lone Druid', 1], [\"Nature's Prophet\", 'Invoker', 'Oracle', 'Tidehunter', 'Juggernaut', 1], ['Rubick', 'Brewmaster', 'Invoker', 'Keeper of the Light', 'Necrophos', 1], ['Ember Spirit', 'Clinkz', 'Dazzle', 'Clockwerk', 'Visage', 1], ['Enchantress', 'Lifestealer', 'Viper', 'Nyx Assassin', 'Bane', 0], ['Dazzle', 'Centaur Warrunner', 'Sniper', 'Rubick', 'Lifestealer', 1], ['Enchantress', 'Puck', 'Luna', 'Clockwerk', 'Shadow Demon', 0], ['Drow Ranger', 'Puck', 'Invoker', 'Undying', 'Shadow Demon', 0], ['Visage', 'Windranger', 'Chaos Knight', 'Tinker', 'Io', 1], ['Rubick', 'Death Prophet', 'Tusk', \"Nature's Prophet\", 'Outworld Devourer', 0], ['Shadow Fiend', 'Spirit Breaker', 'Nyx Assassin', \"Nature's Prophet\", 'Vengeful Spirit', 0], ['Pugna', 'Razor', 'Bounty Hunter', 'Legion Commander', 'Ember Spirit', 1], ['Queen of Pain', 'Doom', 'Timbersaw', 'Invoker', 'Shadow Demon', 0], ['Lina', 'Batrider', 'Naga Siren', 'Luna', 'Elder Titan', 0], ['Dazzle', 'Viper', 'Tusk', 'Clockwerk', 'Leshrac', 1], ['Beastmaster', 'Puck', 'Earth Spirit', 'Dark Seer', 'Gyrocopter', 0], ['Jakiro', 'Nyx Assassin', 'Storm Spirit', 'Slark', 'Rubick', 0], ['Pugna', 'Bounty Hunter', 'Rubick', 'Queen of Pain', 'Chen', 1], ['Outworld Devourer', 'Puck', 'Rubick', 'Lifestealer', 'Crystal Maiden', 0], ['Doom', 'Death Prophet', 'Rubick', \"Nature's Prophet\", 'Ursa', 1], ['Disruptor', 'Invoker', 'Anti-Mage', 'Batrider', 'Sand King', 1], ['Dragon Knight', 'Clinkz', 'Rubick', 'Nyx Assassin', 'Alchemist', 0], ['Rubick', 'Batrider', 'Mirana', 'Slardar', 'Naga Siren', 0], ['Crystal Maiden', 'Clockwerk', 'Abaddon', 'Outworld Devourer', 'Clinkz', 0], ['Luna', \"Nature's Prophet\", 'Spirit Breaker', 'Nyx Assassin', 'Visage', 1], ['Razor', 'Weaver', 'Naga Siren', 'Batrider', 'Ancient Apparition', 1], ['Lone Druid', 'Lifestealer', 'Lion', 'Beastmaster', 'Keeper of the Light', 0], ['Lifestealer', 'Slark', 'Visage', 'Clockwerk', 'Rubick', 1], ['Crystal Maiden', 'Magnus', 'Monkey King', 'Sand King', 'Troll Warlord', 1], ['Crystal Maiden', 'Centaur Warrunner', 'Slark', 'Slardar', 'Lone Druid', 1], ['Brewmaster', 'Lina', 'Winter Wyvern', 'Phoenix', 'Gyrocopter', 0], ['Undying', 'Queen of Pain', 'Witch Doctor', 'Dark Seer', 'Axe', 1], ['Lone Druid', 'Outworld Devourer', 'Crystal Maiden', 'Tinker', 'Treant Protector', 1], ['Sand King', 'Gyrocopter', 'Dragon Knight', 'Batrider', 'Rubick', 0], ['Bane', 'Lifestealer', 'Ursa', 'Invoker', 'Visage', 1], ['Gyrocopter', \"Nature's Prophet\", 'Elder Titan', 'Visage', 'Rubick', 1], ['Rubick', 'Razor', 'Tusk', \"Nature's Prophet\", 'Gyrocopter', 0], ['Chen', 'Puck', 'Weaver', 'Lich', 'Treant Protector', 1], ['Anti-Mage', 'Sand King', 'Chen', 'Batrider', 'Rubick', 1], ['Gyrocopter', 'Puck', 'Enchantress', 'Clockwerk', 'Keeper of the Light', 0], ['Enchantress', 'Death Prophet', 'Earth Spirit', 'Weaver', 'Lycan', 1], ['Anti-Mage', 'Dark Seer', 'Chen', 'Clockwerk', 'Nyx Assassin', 1], ['Luna', 'Storm Spirit', 'Crystal Maiden', 'Clockwerk', 'Visage', 1], ['Enigma', 'Centaur Warrunner', 'Invoker', 'Warlock', 'Juggernaut', 1], ['Shadow Demon', 'Invoker', 'Lone Druid', 'Centaur Warrunner', 'Sand King', 1], ['Mirana', \"Nature's Prophet\", 'Venomancer', 'Batrider', 'Visage', 1], ['Lifestealer', 'Queen of Pain', 'Bane', 'Tinker', 'Keeper of the Light', 0], ['Tusk', 'Outworld Devourer', 'Phoenix', 'Tidehunter', 'Ursa', 1]]\n"
     ]
    }
   ],
   "source": [
    "# Тут мы собственно заматчили героев в каждой игре и то, выиграли они или проиграли\n",
    "import time\n",
    "name = input()\n",
    "voc = all_team_matches(name)\n",
    "def new_voc(voc, name):\n",
    "    newvoc = []\n",
    "    for i in voc:\n",
    "        z = heroes(i, name)\n",
    "        time.sleep(5)\n",
    "        if len(z) == 5:\n",
    "            z.append(voc[i])\n",
    "            newvoc.append(z)\n",
    "    return newvoc\n",
    "b = new_voc(voc, name)\n",
    "print (b)"
   ]
  },
  {
   "cell_type": "markdown",
   "metadata": {},
   "source": [
    "#### Возвращет список из всех героев."
   ]
  },
  {
   "cell_type": "code",
   "execution_count": 37,
   "metadata": {
    "collapsed": false
   },
   "outputs": [
    {
     "data": {
      "text/plain": [
       "['Abaddon',\n",
       " 'Alchemist',\n",
       " 'Ancient Apparition',\n",
       " 'Anti-Mage',\n",
       " 'Arc Warden',\n",
       " 'Axe',\n",
       " 'Bane',\n",
       " 'Batrider',\n",
       " 'Beastmaster',\n",
       " 'Bloodseeker',\n",
       " 'Bounty Hunter',\n",
       " 'Brewmaster',\n",
       " 'Bristleback',\n",
       " 'Broodmother',\n",
       " 'Centaur Warrunner',\n",
       " 'Chaos Knight',\n",
       " 'Chen',\n",
       " 'Clinkz',\n",
       " 'Clockwerk',\n",
       " 'Crystal Maiden',\n",
       " 'Dark Seer',\n",
       " 'Dazzle',\n",
       " 'Death Prophet',\n",
       " 'Disruptor',\n",
       " 'Doom',\n",
       " 'Dragon Knight',\n",
       " 'Drow Ranger',\n",
       " 'Earth Spirit',\n",
       " 'Earthshaker',\n",
       " 'Elder Titan',\n",
       " 'Ember Spirit',\n",
       " 'Enchantress',\n",
       " 'Enigma',\n",
       " 'Faceless Void',\n",
       " 'Gyrocopter',\n",
       " 'Huskar',\n",
       " 'Invoker',\n",
       " 'Io',\n",
       " 'Jakiro',\n",
       " 'Juggernaut',\n",
       " 'Keeper of the Light',\n",
       " 'Kunkka',\n",
       " 'Legion Commander',\n",
       " 'Leshrac',\n",
       " 'Lich',\n",
       " 'Lifestealer',\n",
       " 'Lina',\n",
       " 'Lion',\n",
       " 'Lone Druid',\n",
       " 'Luna',\n",
       " 'Lycan',\n",
       " 'Magnus',\n",
       " 'Medusa',\n",
       " 'Meepo',\n",
       " 'Mirana',\n",
       " 'Monkey King',\n",
       " 'Morphling',\n",
       " 'Naga Siren',\n",
       " \"Nature's Prophet\",\n",
       " 'Necrophos',\n",
       " 'Night Stalker',\n",
       " 'Nyx Assassin',\n",
       " 'Ogre Magi',\n",
       " 'Omniknight',\n",
       " 'Oracle',\n",
       " 'Outworld Devourer',\n",
       " 'Phantom Assassin',\n",
       " 'Phantom Lancer',\n",
       " 'Phoenix',\n",
       " 'Puck',\n",
       " 'Pudge',\n",
       " 'Pugna',\n",
       " 'Queen of Pain',\n",
       " 'Razor',\n",
       " 'Riki',\n",
       " 'Rubick',\n",
       " 'Sand King',\n",
       " 'Shadow Demon',\n",
       " 'Shadow Fiend',\n",
       " 'Shadow Shaman',\n",
       " 'Silencer',\n",
       " 'Skywrath Mage',\n",
       " 'Slardar',\n",
       " 'Slark',\n",
       " 'Sniper',\n",
       " 'Spectre',\n",
       " 'Spirit Breaker',\n",
       " 'Storm Spirit',\n",
       " 'Sven',\n",
       " 'Techies',\n",
       " 'Templar Assassin',\n",
       " 'Terrorblade',\n",
       " 'Tidehunter',\n",
       " 'Timbersaw',\n",
       " 'Tinker',\n",
       " 'Tiny',\n",
       " 'Treant Protector',\n",
       " 'Troll Warlord',\n",
       " 'Tusk',\n",
       " 'Underlord',\n",
       " 'Undying',\n",
       " 'Ursa',\n",
       " 'Vengeful Spirit',\n",
       " 'Venomancer',\n",
       " 'Viper',\n",
       " 'Visage',\n",
       " 'Warlock',\n",
       " 'Weaver',\n",
       " 'Windranger',\n",
       " 'Winter Wyvern',\n",
       " 'Witch Doctor',\n",
       " 'Wraith King',\n",
       " 'Zeus']"
      ]
     },
     "execution_count": 37,
     "metadata": {},
     "output_type": "execute_result"
    }
   ],
   "source": [
    "# Эта функция нам нужна, чтобы потом составить все возможные пары героев\n",
    "def all_heroes():\n",
    "    url = 'https://www.dotabuff.com/heroes'\n",
    "    r = requests.get(url, headers={'User-agent':generate_user_agent()})\n",
    "    soup = BeautifulSoup(r.text, \"html.parser\")\n",
    "    a = soup.findAll('div', class_=\"name\")\n",
    "    z = []\n",
    "    for i in a:\n",
    "        z.append(i.text)\n",
    "    return z\n",
    "all_heroes()"
   ]
  },
  {
   "cell_type": "markdown",
   "metadata": {},
   "source": [
    "#### По списку матчей выдает табличку из 5 пар героев с наивысшим процентом побед, среди тех пар, которые встречались в не менее, чем 8 матчах (чтобы была какая-то значимость). А так же нынешних игроков команды."
   ]
  },
  {
   "cell_type": "code",
   "execution_count": 38,
   "metadata": {
    "collapsed": false
   },
   "outputs": [
    {
     "name": "stdout",
     "output_type": "stream",
     "text": [
      "MSS\n",
      "1437\n",
      "Aui_2000\n",
      "EternaLEnVy\n",
      "SVG\n",
      "  Первый герой Второй герой  Процент побед\n",
      "0  Beastmaster  Elder Titan      72.727273\n",
      "3       Mirana      Warlock      66.666667\n",
      "2      Invoker         Sven      60.000000\n",
      "1  Beastmaster         Sven      50.000000\n"
     ]
    }
   ],
   "source": [
    "# Это и есть то, зачем делался весь проект, здесь мы получаем искомую табличку + инфу по команде (их состав)\n",
    "import pandas as pd\n",
    "import itertools \n",
    "name = 'Team NP'\n",
    "voc = all_team_matches(name)\n",
    "b = new_voc(voc, name)\n",
    "z = all_heroes()\n",
    "x = []\n",
    "y = []\n",
    "for i in range(113):\n",
    "    x.append(float(0))\n",
    "for i in range(113):\n",
    "    y.append(x)\n",
    "df = pd.DataFrame(y, index=z, columns=z)\n",
    "for i in itertools.combinations(z, r = 2):\n",
    "    n = 0 \n",
    "    for j in b:\n",
    "        if (i[0] in j) and (i[1] in j):\n",
    "            n += 1\n",
    "    for j in b:\n",
    "        if (i[0] in j) and (i[1] in j):\n",
    "            df.at[i[0], i[1]] = df.at[i[0], i[1]] + j[5]\n",
    "    if n != 0:\n",
    "        df.at[i[0], i[1]] = float(df.at[i[0], i[1]]*100/n) \n",
    "    if n < 8:\n",
    "        df.at[i[0], i[1]] = float(0)\n",
    "\n",
    "t = []        \n",
    "for i in z:\n",
    "    for j in z:\n",
    "        if df.at[i, j] > 0:\n",
    "            t.append([i, j, df.at[i, j]])\n",
    "df1 = pd.DataFrame(t)\n",
    "df1 = df1.sort_values(by = [2], ascending=False)\n",
    "my_columns = []\n",
    "my_columns.append('Первый герой')\n",
    "my_columns.append('Второй герой')\n",
    "my_columns.append('Процент побед')\n",
    "df1.columns = my_columns\n",
    "\n",
    "team_players(name)\n",
    "print (df1[:5])\n"
   ]
  },
  {
   "cell_type": "code",
   "execution_count": null,
   "metadata": {
    "collapsed": true
   },
   "outputs": [],
   "source": []
  }
 ],
 "metadata": {
  "anaconda-cloud": {},
  "kernelspec": {
   "display_name": "Python [default]",
   "language": "python",
   "name": "python3"
  },
  "language_info": {
   "codemirror_mode": {
    "name": "ipython",
    "version": 3
   },
   "file_extension": ".py",
   "mimetype": "text/x-python",
   "name": "python",
   "nbconvert_exporter": "python",
   "pygments_lexer": "ipython3",
   "version": "3.5.2"
  }
 },
 "nbformat": 4,
 "nbformat_minor": 1
}
